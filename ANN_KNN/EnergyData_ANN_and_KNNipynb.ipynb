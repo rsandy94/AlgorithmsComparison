{
 "cells": [
  {
   "cell_type": "code",
   "execution_count": 0,
   "metadata": {
    "id": "BDeTGnb9wsIA",
    "colab_type": "code",
    "outputId": "b0941300-b4f3-44a0-a808-4ae7f28bfc83",
    "colab": {
     "base_uri": "https://localhost:8080/",
     "height": 714.0
    }
   },
   "outputs": [
    {
     "data": {
      "text/html": [
       "<div>\n",
       "<style scoped>\n",
       "    .dataframe tbody tr th:only-of-type {\n",
       "        vertical-align: middle;\n",
       "    }\n",
       "\n",
       "    .dataframe tbody tr th {\n",
       "        vertical-align: top;\n",
       "    }\n",
       "\n",
       "    .dataframe thead th {\n",
       "        text-align: right;\n",
       "    }\n",
       "</style>\n",
       "<table border=\"1\" class=\"dataframe\">\n",
       "  <thead>\n",
       "    <tr style=\"text-align: right;\">\n",
       "      <th></th>\n",
       "      <th>date</th>\n",
       "      <th>Appliances</th>\n",
       "      <th>lights</th>\n",
       "      <th>T1</th>\n",
       "      <th>RH_1</th>\n",
       "      <th>T2</th>\n",
       "      <th>RH_2</th>\n",
       "      <th>T3</th>\n",
       "      <th>RH_3</th>\n",
       "      <th>T4</th>\n",
       "      <th>RH_4</th>\n",
       "      <th>T5</th>\n",
       "      <th>RH_5</th>\n",
       "      <th>T6</th>\n",
       "      <th>RH_6</th>\n",
       "      <th>T7</th>\n",
       "      <th>RH_7</th>\n",
       "      <th>T8</th>\n",
       "      <th>RH_8</th>\n",
       "      <th>T9</th>\n",
       "      <th>RH_9</th>\n",
       "      <th>T_out</th>\n",
       "      <th>Press_mm_hg</th>\n",
       "      <th>RH_out</th>\n",
       "      <th>Windspeed</th>\n",
       "      <th>Visibility</th>\n",
       "      <th>Tdewpoint</th>\n",
       "      <th>rv1</th>\n",
       "      <th>rv2</th>\n",
       "    </tr>\n",
       "  </thead>\n",
       "  <tbody>\n",
       "    <tr>\n",
       "      <th>0</th>\n",
       "      <td>2016-01-11 17:00:00</td>\n",
       "      <td>60</td>\n",
       "      <td>30</td>\n",
       "      <td>19.890000</td>\n",
       "      <td>47.596667</td>\n",
       "      <td>19.20</td>\n",
       "      <td>44.790000</td>\n",
       "      <td>19.79</td>\n",
       "      <td>44.730000</td>\n",
       "      <td>19.000000</td>\n",
       "      <td>45.566667</td>\n",
       "      <td>17.166667</td>\n",
       "      <td>55.200000</td>\n",
       "      <td>7.026667</td>\n",
       "      <td>84.256667</td>\n",
       "      <td>17.200000</td>\n",
       "      <td>41.626667</td>\n",
       "      <td>18.2</td>\n",
       "      <td>48.900000</td>\n",
       "      <td>17.033333</td>\n",
       "      <td>45.53</td>\n",
       "      <td>6.600000</td>\n",
       "      <td>733.500000</td>\n",
       "      <td>92.000000</td>\n",
       "      <td>7.000000</td>\n",
       "      <td>63.000000</td>\n",
       "      <td>5.300000</td>\n",
       "      <td>13.275433</td>\n",
       "      <td>13.275433</td>\n",
       "    </tr>\n",
       "    <tr>\n",
       "      <th>1</th>\n",
       "      <td>2016-01-11 17:10:00</td>\n",
       "      <td>60</td>\n",
       "      <td>30</td>\n",
       "      <td>19.890000</td>\n",
       "      <td>46.693333</td>\n",
       "      <td>19.20</td>\n",
       "      <td>44.722500</td>\n",
       "      <td>19.79</td>\n",
       "      <td>44.790000</td>\n",
       "      <td>19.000000</td>\n",
       "      <td>45.992500</td>\n",
       "      <td>17.166667</td>\n",
       "      <td>55.200000</td>\n",
       "      <td>6.833333</td>\n",
       "      <td>84.063333</td>\n",
       "      <td>17.200000</td>\n",
       "      <td>41.560000</td>\n",
       "      <td>18.2</td>\n",
       "      <td>48.863333</td>\n",
       "      <td>17.066667</td>\n",
       "      <td>45.56</td>\n",
       "      <td>6.483333</td>\n",
       "      <td>733.600000</td>\n",
       "      <td>92.000000</td>\n",
       "      <td>6.666667</td>\n",
       "      <td>59.166667</td>\n",
       "      <td>5.200000</td>\n",
       "      <td>18.606195</td>\n",
       "      <td>18.606195</td>\n",
       "    </tr>\n",
       "    <tr>\n",
       "      <th>2</th>\n",
       "      <td>2016-01-11 17:20:00</td>\n",
       "      <td>50</td>\n",
       "      <td>30</td>\n",
       "      <td>19.890000</td>\n",
       "      <td>46.300000</td>\n",
       "      <td>19.20</td>\n",
       "      <td>44.626667</td>\n",
       "      <td>19.79</td>\n",
       "      <td>44.933333</td>\n",
       "      <td>18.926667</td>\n",
       "      <td>45.890000</td>\n",
       "      <td>17.166667</td>\n",
       "      <td>55.090000</td>\n",
       "      <td>6.560000</td>\n",
       "      <td>83.156667</td>\n",
       "      <td>17.200000</td>\n",
       "      <td>41.433333</td>\n",
       "      <td>18.2</td>\n",
       "      <td>48.730000</td>\n",
       "      <td>17.000000</td>\n",
       "      <td>45.50</td>\n",
       "      <td>6.366667</td>\n",
       "      <td>733.700000</td>\n",
       "      <td>92.000000</td>\n",
       "      <td>6.333333</td>\n",
       "      <td>55.333333</td>\n",
       "      <td>5.100000</td>\n",
       "      <td>28.642668</td>\n",
       "      <td>28.642668</td>\n",
       "    </tr>\n",
       "    <tr>\n",
       "      <th>3</th>\n",
       "      <td>2016-01-11 17:30:00</td>\n",
       "      <td>50</td>\n",
       "      <td>40</td>\n",
       "      <td>19.890000</td>\n",
       "      <td>46.066667</td>\n",
       "      <td>19.20</td>\n",
       "      <td>44.590000</td>\n",
       "      <td>19.79</td>\n",
       "      <td>45.000000</td>\n",
       "      <td>18.890000</td>\n",
       "      <td>45.723333</td>\n",
       "      <td>17.166667</td>\n",
       "      <td>55.090000</td>\n",
       "      <td>6.433333</td>\n",
       "      <td>83.423333</td>\n",
       "      <td>17.133333</td>\n",
       "      <td>41.290000</td>\n",
       "      <td>18.1</td>\n",
       "      <td>48.590000</td>\n",
       "      <td>17.000000</td>\n",
       "      <td>45.40</td>\n",
       "      <td>6.250000</td>\n",
       "      <td>733.800000</td>\n",
       "      <td>92.000000</td>\n",
       "      <td>6.000000</td>\n",
       "      <td>51.500000</td>\n",
       "      <td>5.000000</td>\n",
       "      <td>45.410389</td>\n",
       "      <td>45.410389</td>\n",
       "    </tr>\n",
       "    <tr>\n",
       "      <th>4</th>\n",
       "      <td>2016-01-11 17:40:00</td>\n",
       "      <td>60</td>\n",
       "      <td>40</td>\n",
       "      <td>19.890000</td>\n",
       "      <td>46.333333</td>\n",
       "      <td>19.20</td>\n",
       "      <td>44.530000</td>\n",
       "      <td>19.79</td>\n",
       "      <td>45.000000</td>\n",
       "      <td>18.890000</td>\n",
       "      <td>45.530000</td>\n",
       "      <td>17.200000</td>\n",
       "      <td>55.090000</td>\n",
       "      <td>6.366667</td>\n",
       "      <td>84.893333</td>\n",
       "      <td>17.200000</td>\n",
       "      <td>41.230000</td>\n",
       "      <td>18.1</td>\n",
       "      <td>48.590000</td>\n",
       "      <td>17.000000</td>\n",
       "      <td>45.40</td>\n",
       "      <td>6.133333</td>\n",
       "      <td>733.900000</td>\n",
       "      <td>92.000000</td>\n",
       "      <td>5.666667</td>\n",
       "      <td>47.666667</td>\n",
       "      <td>4.900000</td>\n",
       "      <td>10.084097</td>\n",
       "      <td>10.084097</td>\n",
       "    </tr>\n",
       "    <tr>\n",
       "      <th>5</th>\n",
       "      <td>2016-01-11 17:50:00</td>\n",
       "      <td>50</td>\n",
       "      <td>40</td>\n",
       "      <td>19.890000</td>\n",
       "      <td>46.026667</td>\n",
       "      <td>19.20</td>\n",
       "      <td>44.500000</td>\n",
       "      <td>19.79</td>\n",
       "      <td>44.933333</td>\n",
       "      <td>18.890000</td>\n",
       "      <td>45.730000</td>\n",
       "      <td>17.133333</td>\n",
       "      <td>55.030000</td>\n",
       "      <td>6.300000</td>\n",
       "      <td>85.766667</td>\n",
       "      <td>17.133333</td>\n",
       "      <td>41.260000</td>\n",
       "      <td>18.1</td>\n",
       "      <td>48.590000</td>\n",
       "      <td>17.000000</td>\n",
       "      <td>45.29</td>\n",
       "      <td>6.016667</td>\n",
       "      <td>734.000000</td>\n",
       "      <td>92.000000</td>\n",
       "      <td>5.333333</td>\n",
       "      <td>43.833333</td>\n",
       "      <td>4.800000</td>\n",
       "      <td>44.919484</td>\n",
       "      <td>44.919484</td>\n",
       "    </tr>\n",
       "    <tr>\n",
       "      <th>6</th>\n",
       "      <td>2016-01-11 18:00:00</td>\n",
       "      <td>60</td>\n",
       "      <td>50</td>\n",
       "      <td>19.890000</td>\n",
       "      <td>45.766667</td>\n",
       "      <td>19.20</td>\n",
       "      <td>44.500000</td>\n",
       "      <td>19.79</td>\n",
       "      <td>44.900000</td>\n",
       "      <td>18.890000</td>\n",
       "      <td>45.790000</td>\n",
       "      <td>17.100000</td>\n",
       "      <td>54.966667</td>\n",
       "      <td>6.263333</td>\n",
       "      <td>86.090000</td>\n",
       "      <td>17.133333</td>\n",
       "      <td>41.200000</td>\n",
       "      <td>18.1</td>\n",
       "      <td>48.590000</td>\n",
       "      <td>17.000000</td>\n",
       "      <td>45.29</td>\n",
       "      <td>5.900000</td>\n",
       "      <td>734.100000</td>\n",
       "      <td>92.000000</td>\n",
       "      <td>5.000000</td>\n",
       "      <td>40.000000</td>\n",
       "      <td>4.700000</td>\n",
       "      <td>47.233763</td>\n",
       "      <td>47.233763</td>\n",
       "    </tr>\n",
       "    <tr>\n",
       "      <th>7</th>\n",
       "      <td>2016-01-11 18:10:00</td>\n",
       "      <td>60</td>\n",
       "      <td>50</td>\n",
       "      <td>19.856667</td>\n",
       "      <td>45.560000</td>\n",
       "      <td>19.20</td>\n",
       "      <td>44.500000</td>\n",
       "      <td>19.73</td>\n",
       "      <td>44.900000</td>\n",
       "      <td>18.890000</td>\n",
       "      <td>45.863333</td>\n",
       "      <td>17.100000</td>\n",
       "      <td>54.900000</td>\n",
       "      <td>6.190000</td>\n",
       "      <td>86.423333</td>\n",
       "      <td>17.100000</td>\n",
       "      <td>41.200000</td>\n",
       "      <td>18.1</td>\n",
       "      <td>48.590000</td>\n",
       "      <td>17.000000</td>\n",
       "      <td>45.29</td>\n",
       "      <td>5.916667</td>\n",
       "      <td>734.166667</td>\n",
       "      <td>91.833333</td>\n",
       "      <td>5.166667</td>\n",
       "      <td>40.000000</td>\n",
       "      <td>4.683333</td>\n",
       "      <td>33.039890</td>\n",
       "      <td>33.039890</td>\n",
       "    </tr>\n",
       "    <tr>\n",
       "      <th>8</th>\n",
       "      <td>2016-01-11 18:20:00</td>\n",
       "      <td>60</td>\n",
       "      <td>40</td>\n",
       "      <td>19.790000</td>\n",
       "      <td>45.597500</td>\n",
       "      <td>19.20</td>\n",
       "      <td>44.433333</td>\n",
       "      <td>19.73</td>\n",
       "      <td>44.790000</td>\n",
       "      <td>18.890000</td>\n",
       "      <td>45.790000</td>\n",
       "      <td>17.166667</td>\n",
       "      <td>55.000000</td>\n",
       "      <td>6.123333</td>\n",
       "      <td>87.226667</td>\n",
       "      <td>17.166667</td>\n",
       "      <td>41.400000</td>\n",
       "      <td>18.1</td>\n",
       "      <td>48.590000</td>\n",
       "      <td>17.000000</td>\n",
       "      <td>45.29</td>\n",
       "      <td>5.933333</td>\n",
       "      <td>734.233333</td>\n",
       "      <td>91.666667</td>\n",
       "      <td>5.333333</td>\n",
       "      <td>40.000000</td>\n",
       "      <td>4.666667</td>\n",
       "      <td>31.455702</td>\n",
       "      <td>31.455702</td>\n",
       "    </tr>\n",
       "    <tr>\n",
       "      <th>9</th>\n",
       "      <td>2016-01-11 18:30:00</td>\n",
       "      <td>70</td>\n",
       "      <td>40</td>\n",
       "      <td>19.856667</td>\n",
       "      <td>46.090000</td>\n",
       "      <td>19.23</td>\n",
       "      <td>44.400000</td>\n",
       "      <td>19.79</td>\n",
       "      <td>44.863333</td>\n",
       "      <td>18.890000</td>\n",
       "      <td>46.096667</td>\n",
       "      <td>17.100000</td>\n",
       "      <td>55.000000</td>\n",
       "      <td>6.190000</td>\n",
       "      <td>87.626667</td>\n",
       "      <td>17.200000</td>\n",
       "      <td>41.500000</td>\n",
       "      <td>18.1</td>\n",
       "      <td>48.590000</td>\n",
       "      <td>17.000000</td>\n",
       "      <td>45.29</td>\n",
       "      <td>5.950000</td>\n",
       "      <td>734.300000</td>\n",
       "      <td>91.500000</td>\n",
       "      <td>5.500000</td>\n",
       "      <td>40.000000</td>\n",
       "      <td>4.650000</td>\n",
       "      <td>3.089314</td>\n",
       "      <td>3.089314</td>\n",
       "    </tr>\n",
       "  </tbody>\n",
       "</table>\n",
       "</div>"
      ],
      "text/plain": [
       "                  date  Appliances  lights  ...  Tdewpoint        rv1        rv2\n",
       "0  2016-01-11 17:00:00          60      30  ...   5.300000  13.275433  13.275433\n",
       "1  2016-01-11 17:10:00          60      30  ...   5.200000  18.606195  18.606195\n",
       "2  2016-01-11 17:20:00          50      30  ...   5.100000  28.642668  28.642668\n",
       "3  2016-01-11 17:30:00          50      40  ...   5.000000  45.410389  45.410389\n",
       "4  2016-01-11 17:40:00          60      40  ...   4.900000  10.084097  10.084097\n",
       "5  2016-01-11 17:50:00          50      40  ...   4.800000  44.919484  44.919484\n",
       "6  2016-01-11 18:00:00          60      50  ...   4.700000  47.233763  47.233763\n",
       "7  2016-01-11 18:10:00          60      50  ...   4.683333  33.039890  33.039890\n",
       "8  2016-01-11 18:20:00          60      40  ...   4.666667  31.455702  31.455702\n",
       "9  2016-01-11 18:30:00          70      40  ...   4.650000   3.089314   3.089314\n",
       "\n",
       "[10 rows x 29 columns]"
      ]
     },
     "execution_count": 3,
     "metadata": {
      "tags": []
     },
     "output_type": "execute_result"
    }
   ],
   "source": [
    "import pandas as pd\n",
    "df= pd.read_csv(\"energydata_complete.csv\")\n",
    "df.head(10)"
   ]
  },
  {
   "cell_type": "code",
   "execution_count": 0,
   "metadata": {
    "id": "8T9bAvSUxn7u",
    "colab_type": "code",
    "outputId": "5ec6c271-8a6e-41ee-cd96-ba6b5c7c8648",
    "colab": {
     "base_uri": "https://localhost:8080/",
     "height": 65.0
    }
   },
   "outputs": [
    {
     "data": {
      "text/html": [
       "<p style=\"color: red;\">\n",
       "The default version of TensorFlow in Colab will soon switch to TensorFlow 2.x.<br>\n",
       "We recommend you <a href=\"https://www.tensorflow.org/guide/migrate\" target=\"_blank\">upgrade</a> now \n",
       "or ensure your notebook will continue to use TensorFlow 1.x via the <code>%tensorflow_version 1.x</code> magic:\n",
       "<a href=\"https://colab.research.google.com/notebooks/tensorflow_version.ipynb\" target=\"_blank\">more info</a>.</p>\n"
      ],
      "text/plain": [
       "<IPython.core.display.HTML object>"
      ]
     },
     "metadata": {
      "tags": []
     },
     "output_type": "execute_result"
    }
   ],
   "source": [
    "from __future__ import absolute_import, division, print_function, unicode_literals\n",
    "\n",
    "# TensorFlow and tf.keras\n",
    "import tensorflow as tf\n",
    "from tensorflow import keras\n",
    "\n",
    "import numpy as np\n",
    "import matplotlib.pyplot as plt\n",
    "\n"
   ]
  },
  {
   "cell_type": "code",
   "execution_count": 0,
   "metadata": {
    "id": "wgb-3J0a8Dwz",
    "colab_type": "code",
    "outputId": "ba2ba9a1-dae0-4167-d7b6-922d67698b06",
    "colab": {
     "base_uri": "https://localhost:8080/",
     "height": 34.0
    }
   },
   "outputs": [
    {
     "data": {
      "text/plain": [
       "(5921,)"
      ]
     },
     "execution_count": 6,
     "metadata": {
      "tags": []
     },
     "output_type": "execute_result"
    }
   ],
   "source": [
    "from sklearn import preprocessing\n",
    "from sklearn.metrics import confusion_matrix, classification_report, roc_curve, accuracy_score, roc_auc_score\n",
    "from sklearn.model_selection import train_test_split\n",
    "\n",
    "df = df.drop(['date'], axis=1)\n",
    "df['Efficiency'] = np.where(df['Appliances'] >= 60, 1, 0)\n",
    "df = df.drop(['Appliances'], axis=1)\n",
    "x = df.drop(['Efficiency'], axis=1)\n",
    "y = df['Efficiency']\n",
    "\n",
    "x_train, x_test, y_train, y_test = train_test_split(x, y, train_size=0.7, random_state=1)\n",
    "\n",
    "\n",
    "cols=['T1','RH_1','T2','T3','RH_3','T4','T5','T7','RH_7','T_out']\n",
    "Xtrain=x_train[cols]\n",
    "std_Xtrain = preprocessing.scale(Xtrain)\n",
    "Xtest=x_test[cols]\n",
    "std_Xtest = preprocessing.scale(Xtest)\n",
    "std_Xtrain.shape\n",
    "std_Xtest.shape\n",
    "y_test.shape"
   ]
  },
  {
   "cell_type": "code",
   "execution_count": 0,
   "metadata": {
    "id": "8sbVoTOS8628",
    "colab_type": "code",
    "outputId": "f60bc9ce-76c8-4d5e-ba63-8953a43a93f8",
    "colab": {
     "base_uri": "https://localhost:8080/",
     "height": 425.0
    }
   },
   "outputs": [
    {
     "name": "stdout",
     "output_type": "stream",
     "text": [
      "Epoch 1/10\n",
      "13814/13814 [==============================] - 2s 179us/step - loss: 0.5890 - acc: 0.6868\n",
      "Epoch 2/10\n",
      "13814/13814 [==============================] - 2s 139us/step - loss: 0.5573 - acc: 0.7057\n",
      "Epoch 3/10\n",
      "13814/13814 [==============================] - 2s 143us/step - loss: 0.5426 - acc: 0.7154\n",
      "Epoch 4/10\n",
      "13814/13814 [==============================] - 2s 143us/step - loss: 0.5317 - acc: 0.7251\n",
      "Epoch 5/10\n",
      "13814/13814 [==============================] - 2s 145us/step - loss: 0.5254 - acc: 0.7275\n",
      "Epoch 6/10\n",
      "13814/13814 [==============================] - 2s 141us/step - loss: 0.5194 - acc: 0.7346\n",
      "Epoch 7/10\n",
      "13814/13814 [==============================] - 2s 140us/step - loss: 0.5130 - acc: 0.7423\n",
      "Epoch 8/10\n",
      "13814/13814 [==============================] - 2s 146us/step - loss: 0.5079 - acc: 0.7397\n",
      "Epoch 9/10\n",
      "13814/13814 [==============================] - 2s 147us/step - loss: 0.5040 - acc: 0.7434\n",
      "Epoch 10/10\n",
      "13814/13814 [==============================] - 2s 143us/step - loss: 0.4992 - acc: 0.7472\n",
      "\n",
      "Test accuracy: 0.7463266340145246\n",
      "\n",
      "Train accuracy: 0.7502533661416527\n"
     ]
    }
   ],
   "source": [
    "from keras.models import Sequential\n",
    "from keras.layers import Dense, Activation\n",
    "from sklearn.model_selection import GridSearchCV\n",
    "from keras.wrappers.scikit_learn import KerasClassifier\n",
    "\n",
    "\n",
    "model = Sequential()\n",
    "model.add(Dense(50, input_dim=10, activation=\"relu\"))\n",
    "model.add(Dense(30, activation=\"relu\"))\n",
    "model.add(Dense(1, activation=\"sigmoid\"))\n",
    "\n",
    "model.compile(optimizer=\"adam\",\n",
    "              loss='binary_crossentropy',\n",
    "              metrics=['accuracy'])\n",
    "model.fit(std_Xtrain, y_train, epochs=10)\n",
    "test_loss3, test_acc3 = model.evaluate(std_Xtest,  y_test, verbose=2)\n",
    "train_loss3,train_acc3 = model.evaluate(std_Xtrain,  y_train, verbose=2)\n",
    "\n",
    "print('\\nTest accuracy:', test_acc3)\n",
    "print('\\nTrain accuracy:', train_acc3)\n"
   ]
  },
  {
   "cell_type": "markdown",
   "metadata": {
    "id": "pxzhgBt1xE_N",
    "colab_type": "text"
   },
   "source": [
    ""
   ]
  },
  {
   "cell_type": "code",
   "execution_count": 0,
   "metadata": {
    "id": "GsbafQBDzPH6",
    "colab_type": "code",
    "outputId": "48e5c497-30ca-453e-96e2-30d0d0cb0d0c",
    "colab": {
     "base_uri": "https://localhost:8080/",
     "height": 34.0
    }
   },
   "outputs": [
    {
     "name": "stdout",
     "output_type": "stream",
     "text": [
      "Best: 0.741205 using {'neurons': 40}\n"
     ]
    }
   ],
   "source": [
    "\n",
    "def createmodel(neurons=10):\n",
    "  \n",
    "  model = Sequential()\n",
    "  model.add(Dense(50, input_dim=10, activation='relu'))\n",
    "  model.add(Dense(40, activation='relu'))\n",
    "  model.add(Dense(1, activation='sigmoid'))\n",
    "\n",
    "  model.compile(optimizer='adam',\n",
    "                loss='binary_crossentropy',\n",
    "                metrics=['accuracy'])\n",
    "  return model\n",
    "model = KerasClassifier(build_fn=createmodel, epochs=10, verbose=2)\n",
    "# define the grid search parameters\n",
    "neurons = [10, 20, 30,40,50]\n",
    "param_grid = dict(neurons=neurons)\n",
    "grid = GridSearchCV(estimator=model, param_grid=param_grid, n_jobs=-1, cv=3)\n",
    "grid_result = grid.fit(std_Xtrain, y_train)\n",
    "\n",
    "print(\"Best: %f using %s\" % (grid_result.best_score_, grid_result.best_params_))\n",
    "means = grid_result.cv_results_['mean_test_score']\n",
    "params = grid_result.cv_results_['params']\n",
    "\n",
    "for mean,param in zip(means,params):\n",
    "    print(\"%f with: %r\" % (mean, param))\n"
   ]
  },
  {
   "cell_type": "code",
   "execution_count": 0,
   "metadata": {
    "id": "Ulj3-RL11VQb",
    "colab_type": "code",
    "outputId": "6287d985-d2e1-4f0b-97e3-1b00d49e6d59",
    "colab": {
     "base_uri": "https://localhost:8080/",
     "height": 85.0
    }
   },
   "outputs": [
    {
     "name": "stdout",
     "output_type": "stream",
     "text": [
      "\n",
      "Test accuracy: 0.772335754095592\n",
      "\n",
      "Train accuracy: 0.7925293181003633\n"
     ]
    }
   ],
   "source": [
    "train_errors=[]\n",
    "test_errors=[]\n",
    "model = Sequential()\n",
    "model.add(Dense(50, input_dim=10, activation='relu'))\n",
    "model.add(Dense(40, activation='relu'))\n",
    "model.add(Dense(30, activation='relu'))\n",
    "model.add(Dense(20, activation='relu'))\n",
    "\n",
    "model.add(Dense(1, activation='sigmoid'))\n",
    "\n",
    "model.compile(optimizer='adam',\n",
    "              loss='binary_crossentropy',\n",
    "              metrics=['accuracy'])\n",
    "model.fit(std_Xtrain, y_train, epochs=10,batch_size=20)\n",
    "test_loss, test_acc = model.evaluate(std_Xtest,  y_test, verbose=2)\n",
    "train_loss, train_acc = model.evaluate(std_Xtrain,  y_train, verbose=2)\n",
    "print('\\nTest accuracy:', test_acc)\n",
    "print('\\nTrain accuracy:', train_acc)"
   ]
  },
  {
   "cell_type": "code",
   "execution_count": 0,
   "metadata": {
    "id": "22DVBGeo4jTd",
    "colab_type": "code",
    "outputId": "af790891-f6bd-4315-dc5f-cf25d3b1cc23",
    "colab": {
     "base_uri": "https://localhost:8080/",
     "height": 425.0
    }
   },
   "outputs": [
    {
     "name": "stdout",
     "output_type": "stream",
     "text": [
      "Epoch 1/10\n",
      "13814/13814 [==============================] - 5s 328us/step - loss: 0.5805 - acc: 0.6936\n",
      "Epoch 2/10\n",
      "13814/13814 [==============================] - 4s 260us/step - loss: 0.5389 - acc: 0.7203\n",
      "Epoch 3/10\n",
      "13814/13814 [==============================] - 4s 260us/step - loss: 0.5190 - acc: 0.7345\n",
      "Epoch 4/10\n",
      "13814/13814 [==============================] - 4s 259us/step - loss: 0.5049 - acc: 0.7449\n",
      "Epoch 5/10\n",
      "13814/13814 [==============================] - 4s 259us/step - loss: 0.4911 - acc: 0.7526\n",
      "Epoch 6/10\n",
      "13814/13814 [==============================] - 4s 268us/step - loss: 0.4810 - acc: 0.7581\n",
      "Epoch 7/10\n",
      "13814/13814 [==============================] - 4s 270us/step - loss: 0.4739 - acc: 0.7652\n",
      "Epoch 8/10\n",
      "13814/13814 [==============================] - 4s 266us/step - loss: 0.4671 - acc: 0.7659\n",
      "Epoch 9/10\n",
      "13814/13814 [==============================] - 4s 257us/step - loss: 0.4602 - acc: 0.7736\n",
      "Epoch 10/10\n",
      "13814/13814 [==============================] - 4s 262us/step - loss: 0.4539 - acc: 0.7723\n",
      "\n",
      "Test accuracy: 0.7640601249788888\n",
      "\n",
      "Train accuracy: 0.7763138845081835\n"
     ]
    }
   ],
   "source": [
    "model = Sequential()\n",
    "model.add(Dense(50, input_dim=10, activation='relu'))\n",
    "model.add(Dense(40, activation='relu'))\n",
    "model.add(Dense(30, activation='relu'))\n",
    "model.add(Dense(1, activation='sigmoid'))\n",
    "\n",
    "model.compile(optimizer='adam',\n",
    "              loss='binary_crossentropy',\n",
    "              metrics=['accuracy'])\n",
    "model.fit(std_Xtrain, y_train, epochs=10,batch_size=20)\n",
    "test_loss1, test_acc1 = model.evaluate(std_Xtest,  y_test, verbose=2)\n",
    "train_loss1,train_acc1 = model.evaluate(std_Xtrain,  y_train, verbose=2)\n",
    "\n",
    "print('\\nTest accuracy:', test_acc1)\n",
    "print('\\nTrain accuracy:', train_acc1)"
   ]
  },
  {
   "cell_type": "code",
   "execution_count": 0,
   "metadata": {
    "id": "WLjfxIzc5bIE",
    "colab_type": "code",
    "outputId": "cfd3551f-43f2-4458-873c-00ecfa087b1e",
    "colab": {
     "base_uri": "https://localhost:8080/",
     "height": 425.0
    }
   },
   "outputs": [
    {
     "name": "stdout",
     "output_type": "stream",
     "text": [
      "Epoch 1/10\n",
      "13814/13814 [==============================] - 4s 290us/step - loss: 0.5887 - acc: 0.6886\n",
      "Epoch 2/10\n",
      "13814/13814 [==============================] - 3s 235us/step - loss: 0.5484 - acc: 0.7133\n",
      "Epoch 3/10\n",
      "13814/13814 [==============================] - 3s 228us/step - loss: 0.5322 - acc: 0.7248\n",
      "Epoch 4/10\n",
      "13814/13814 [==============================] - 3s 233us/step - loss: 0.5231 - acc: 0.7343\n",
      "Epoch 5/10\n",
      "13814/13814 [==============================] - 3s 238us/step - loss: 0.5138 - acc: 0.7398\n",
      "Epoch 6/10\n",
      "13814/13814 [==============================] - 3s 235us/step - loss: 0.5068 - acc: 0.7406\n",
      "Epoch 7/10\n",
      "13814/13814 [==============================] - 3s 239us/step - loss: 0.5018 - acc: 0.7476\n",
      "Epoch 8/10\n",
      "13814/13814 [==============================] - 3s 235us/step - loss: 0.4971 - acc: 0.7487\n",
      "Epoch 9/10\n",
      "13814/13814 [==============================] - 3s 236us/step - loss: 0.4904 - acc: 0.7535\n",
      "Epoch 10/10\n",
      "13814/13814 [==============================] - 3s 235us/step - loss: 0.4860 - acc: 0.7613\n",
      "\n",
      "Test accuracy: 0.7486910994764397\n",
      "\n",
      "Train accuracy: 0.7585782539625321\n"
     ]
    }
   ],
   "source": [
    "model = Sequential()\n",
    "model.add(Dense(50, input_dim=10, activation='relu'))\n",
    "model.add(Dense(40, activation='relu'))\n",
    "model.add(Dense(1, activation='sigmoid'))\n",
    "\n",
    "model.compile(optimizer='adam',\n",
    "              loss='binary_crossentropy',\n",
    "              metrics=['accuracy'])\n",
    "model.fit(std_Xtrain, y_train, epochs=10,batch_size=20)\n",
    "test_loss2, test_acc2 = model.evaluate(std_Xtest,  y_test, verbose=2)\n",
    "train_loss2,train_acc2 = model.evaluate(std_Xtrain,  y_train, verbose=2)\n",
    "\n",
    "print('\\nTest accuracy:', test_acc2)\n",
    "print('\\nTrain accuracy:', train_acc2)"
   ]
  },
  {
   "cell_type": "code",
   "execution_count": 0,
   "metadata": {
    "id": "-7XK_9-S6NYb",
    "colab_type": "code",
    "outputId": "38c990ee-0764-4d81-861f-732e20eb2ea4",
    "colab": {
     "base_uri": "https://localhost:8080/",
     "height": 425.0
    }
   },
   "outputs": [
    {
     "name": "stdout",
     "output_type": "stream",
     "text": [
      "Epoch 1/10\n",
      "13814/13814 [==============================] - 5s 335us/step - loss: 0.5779 - acc: 0.6893\n",
      "Epoch 2/10\n",
      "13814/13814 [==============================] - 4s 289us/step - loss: 0.5329 - acc: 0.7272\n",
      "Epoch 3/10\n",
      "13814/13814 [==============================] - 4s 284us/step - loss: 0.5110 - acc: 0.7398\n",
      "Epoch 4/10\n",
      "13814/13814 [==============================] - 4s 280us/step - loss: 0.4951 - acc: 0.7513\n",
      "Epoch 5/10\n",
      "13814/13814 [==============================] - 4s 281us/step - loss: 0.4837 - acc: 0.7576\n",
      "Epoch 6/10\n",
      "13814/13814 [==============================] - 4s 277us/step - loss: 0.4709 - acc: 0.7651\n",
      "Epoch 7/10\n",
      "13814/13814 [==============================] - 4s 274us/step - loss: 0.4591 - acc: 0.7741\n",
      "Epoch 8/10\n",
      "13814/13814 [==============================] - 4s 275us/step - loss: 0.4474 - acc: 0.7815\n",
      "Epoch 9/10\n",
      "13814/13814 [==============================] - 4s 276us/step - loss: 0.4409 - acc: 0.7829\n",
      "Epoch 10/10\n",
      "13814/13814 [==============================] - 4s 277us/step - loss: 0.4342 - acc: 0.7896\n",
      "\n",
      "Test accuracy: 0.770646850194224\n",
      "\n",
      "Train accuracy: 0.7924569277458224\n"
     ]
    }
   ],
   "source": [
    "model = Sequential()\n",
    "model.add(Dense(70, input_dim=10, activation='relu'))\n",
    "model.add(Dense(50, activation='relu'))\n",
    "model.add(Dense(40, activation='relu'))\n",
    "model.add(Dense(30, activation='relu'))\n",
    "model.add(Dense(1, activation='sigmoid'))\n",
    "\n",
    "model.compile(optimizer='adam',\n",
    "              loss='binary_crossentropy',\n",
    "              metrics=['accuracy'])\n",
    "model.fit(std_Xtrain, y_train, epochs=10,batch_size=20)\n",
    "test_loss3, test_acc3 = model.evaluate(std_Xtest,  y_test, verbose=2)\n",
    "train_loss3,train_acc3 = model.evaluate(std_Xtrain,  y_train, verbose=2)\n",
    "\n",
    "print('\\nTest accuracy:', test_acc3)\n",
    "print('\\nTrain accuracy:', train_acc3)"
   ]
  },
  {
   "cell_type": "code",
   "execution_count": 0,
   "metadata": {
    "id": "uW8P-NNL54v9",
    "colab_type": "code",
    "outputId": "07d381e8-4b88-4fba-b3aa-09bdb68ff508",
    "colab": {
     "base_uri": "https://localhost:8080/",
     "height": 34.0
    }
   },
   "outputs": [
    {
     "data": {
      "text/plain": [
       "[0.7486910994764397, 0.7640601249788888, 0.770646850194224]"
      ]
     },
     "execution_count": 44,
     "metadata": {
      "tags": []
     },
     "output_type": "execute_result"
    }
   ],
   "source": [
    "train_errors=[train_acc2,train_acc1,train_acc3]\n",
    "test_errors=[test_acc2,test_acc1,test_acc3]\n",
    "x=[2,3,4]\n",
    "plt.figure()\n",
    "plt.plot(x,train_errors,label='train accuracy')\n",
    "plt.plot(x,test_errors,label='test accuracy')\n",
    "plt.xlabel(\"Number of layers\")\n",
    "plt.xticks([2,3,4])\n",
    "plt.ylabel(\"Accuracy\")\n",
    "plt.legend()\n",
    "plt.show()\n",
    "\n",
    "train_errors\n",
    "test_errors\n"
   ]
  },
  {
   "cell_type": "code",
   "execution_count": 0,
   "metadata": {
    "id": "Qjk5fNjJ8dWn",
    "colab_type": "code",
    "outputId": "188a9a3b-c290-43a6-abc9-2069001009db",
    "colab": {
     "base_uri": "https://localhost:8080/",
     "height": 335.0
    }
   },
   "outputs": [
    {
     "name": "stdout",
     "output_type": "stream",
     "text": [
      "0.760533 with: {'neurons': 60}\n",
      "0.750326 with: {'neurons': 70}\n",
      "0.765455 with: {'neurons': 80}\n",
      "0.757130 with: {'neurons': 90}\n"
     ]
    },
    {
     "data": {
      "image/png": "[encoded data removed]",
      "text/plain": [
       "<Figure size 432x288 with 1 Axes>"
      ]
     },
     "metadata": {
      "tags": []
     },
     "output_type": "display_data"
    }
   ],
   "source": [
    "def createmodel(neurons=60):\n",
    "  \n",
    "  \n",
    "  model = Sequential()\n",
    "  model.add(Dense(neurons, input_dim=10, activation='relu'))\n",
    "  model.add(Dense(50, input_dim=10, activation='relu'))\n",
    "  model.add(Dense(30, activation='relu'))\n",
    "  model.add(Dense(1, activation='sigmoid'))\n",
    "\n",
    "  model.compile(optimizer='adam',\n",
    "                loss='binary_crossentropy',\n",
    "                metrics=['accuracy'])\n",
    "  return model\n",
    "\n",
    "model = KerasClassifier(build_fn=createmodel, epochs=10, verbose=2)\n",
    "# define the grid search parameters\n",
    "neurons = [60,70,80,90]\n",
    "param_grid = dict(neurons=neurons)\n",
    "grid = GridSearchCV(estimator=model, param_grid=param_grid, n_jobs=-1, cv=3)\n",
    "grid_result = grid.fit(std_Xtrain, y_train)\n",
    "\n",
    "print(\"Best: %f using %s\" % (grid_result.best_score_, grid_result.best_params_))\n",
    "means = grid_result.cv_results_['mean_test_score']\n",
    "params = grid_result.cv_results_['params']\n",
    "\n",
    "for mean,param in zip(means,params):\n",
    "    print(\"%f with: %r\" % (mean, param))\n",
    "plt.figure()\n",
    "plt.plot([60,70,80,90],means)\n",
    "plt.show()"
   ]
  },
  {
   "cell_type": "code",
   "execution_count": 0,
   "metadata": {
    "id": "bsBl_G18_5rm",
    "colab_type": "code",
    "outputId": "4ad278b3-7310-41a7-ce08-609464ca53c7",
    "colab": {
     "base_uri": "https://localhost:8080/",
     "height": 316.0
    }
   },
   "outputs": [
    {
     "name": "stdout",
     "output_type": "stream",
     "text": [
      "0.758216 with: {'neurons': 40}\n",
      "0.761257 with: {'neurons': 50}\n",
      "0.752208 with: {'neurons': 60}\n"
     ]
    },
    {
     "data": {
      "image/png": "[encoded data removed]",
      "text/plain": [
       "<Figure size 432x288 with 1 Axes>"
      ]
     },
     "metadata": {
      "tags": []
     },
     "output_type": "display_data"
    }
   ],
   "source": [
    "def createmodel(neurons=40):\n",
    "  \n",
    "  \n",
    "  model = Sequential()\n",
    "  model.add(Dense(80, input_dim=10, activation='relu'))\n",
    "  model.add(Dense(neurons, input_dim=10, activation='relu'))\n",
    "  model.add(Dense(30, activation='relu'))\n",
    "  model.add(Dense(1, activation='sigmoid'))\n",
    "\n",
    "  model.compile(optimizer='adam',\n",
    "                loss='binary_crossentropy',\n",
    "                metrics=['accuracy'])\n",
    "  return model\n",
    "\n",
    "model = KerasClassifier(build_fn=createmodel, epochs=10, verbose=2)\n",
    "# define the grid search parameters\n",
    "neurons = [40,50,60]\n",
    "param_grid = dict(neurons=neurons)\n",
    "grid = GridSearchCV(estimator=model, param_grid=param_grid, n_jobs=-1, cv=3)\n",
    "grid_result = grid.fit(std_Xtrain, y_train)\n",
    "\n",
    "print(\"Best: %f using %s\" % (grid_result.best_score_, grid_result.best_params_))\n",
    "means = grid_result.cv_results_['mean_test_score']\n",
    "params = grid_result.cv_results_['params']\n",
    "\n",
    "for mean,param in zip(means,params):\n",
    "    print(\"%f with: %r\" % (mean, param))\n",
    "plt.figure()\n",
    "plt.plot([40,50,60],means)\n",
    "plt.show()"
   ]
  },
  {
   "cell_type": "code",
   "execution_count": 0,
   "metadata": {
    "id": "zUhQjYiKAdG2",
    "colab_type": "code",
    "outputId": "0bbe7119-f7c7-49ee-f203-731fda530f14",
    "colab": {
     "base_uri": "https://localhost:8080/",
     "height": 316.0
    }
   },
   "outputs": [
    {
     "name": "stdout",
     "output_type": "stream",
     "text": [
      "0.754814 with: {'neurons': 20}\n",
      "0.760171 with: {'neurons': 30}\n",
      "0.761184 with: {'neurons': 40}\n"
     ]
    },
    {
     "data": {
      "image/png": "[encoded data removed]",
      "text/plain": [
       "<Figure size 432x288 with 1 Axes>"
      ]
     },
     "metadata": {
      "tags": []
     },
     "output_type": "display_data"
    }
   ],
   "source": [
    "def createmodel(neurons=20):\n",
    "  \n",
    "  \n",
    "  model = Sequential()\n",
    "  model.add(Dense(80, input_dim=10, activation='relu'))\n",
    "  model.add(Dense(50,activation='relu'))\n",
    "  model.add(Dense(neurons, activation='relu'))\n",
    "  model.add(Dense(1, activation='sigmoid'))\n",
    "\n",
    "  model.compile(optimizer='adam',\n",
    "                loss='binary_crossentropy',\n",
    "                metrics=['accuracy'])\n",
    "  return model\n",
    "\n",
    "model = KerasClassifier(build_fn=createmodel, epochs=10, verbose=2)\n",
    "# define the grid search parameters\n",
    "neurons = [20,30,40]\n",
    "param_grid = dict(neurons=neurons)\n",
    "grid = GridSearchCV(estimator=model, param_grid=param_grid, n_jobs=-1, cv=3)\n",
    "grid_result = grid.fit(std_Xtrain, y_train)\n",
    "\n",
    "print(\"Best: %f using %s\" % (grid_result.best_score_, grid_result.best_params_))\n",
    "means = grid_result.cv_results_['mean_test_score']\n",
    "params = grid_result.cv_results_['params']\n",
    "\n",
    "for mean,param in zip(means,params):\n",
    "    print(\"%f with: %r\" % (mean, param))\n",
    "plt.figure()\n",
    "plt.plot([20,30,40],means)\n",
    "plt.show()"
   ]
  },
  {
   "cell_type": "code",
   "execution_count": 0,
   "metadata": {
    "id": "TwxYIy7wOBiw",
    "colab_type": "code",
    "outputId": "8d28ef60-645a-4ac3-ae1b-b584cc98c97d",
    "colab": {
     "base_uri": "https://localhost:8080/",
     "height": 330.0
    }
   },
   "outputs": [
    {
     "name": "stdout",
     "output_type": "stream",
     "text": [
      "0.759954 with: {'activation': 'relu'}\n",
      "0.733314 with: {'activation': 'tanh'}\n",
      "0.686550 with: {'activation': 'sigmoid'}\n"
     ]
    },
    {
     "data": {
      "image/png": "[encoded data removed]",
      "text/plain": [
       "<Figure size 432x288 with 1 Axes>"
      ]
     },
     "metadata": {
      "tags": []
     },
     "output_type": "display_data"
    }
   ],
   "source": [
    "def createmodel(activation=\"relu\"):\n",
    "  \n",
    "  \n",
    "  model = Sequential()\n",
    "  model.add(Dense(80, input_dim=10, activation=activation))\n",
    "  model.add(Dense(50, activation=activation))\n",
    "  model.add(Dense(40, activation=activation))\n",
    "  model.add(Dense(10, activation=activation))\n",
    "  model.add(Dense(1, activation='sigmoid'))\n",
    "\n",
    "  model.compile(optimizer='adam',\n",
    "                loss='binary_crossentropy',\n",
    "                metrics=['accuracy'])\n",
    "  return model\n",
    "\n",
    "model = KerasClassifier(build_fn=createmodel, epochs=10, verbose=2)\n",
    "# define the grid search parameters\n",
    "activation = ['relu', 'tanh', 'sigmoid']\n",
    "param_grid = dict(activation=activation)\n",
    "grid = GridSearchCV(estimator=model, param_grid=param_grid, n_jobs=-1, cv=3)\n",
    "grid_result = grid.fit(std_Xtrain, y_train)\n",
    "\n",
    "print(\"Best: %f using %s\" % (grid_result.best_score_, grid_result.best_params_))\n",
    "means = grid_result.cv_results_['mean_test_score']\n",
    "params = grid_result.cv_results_['params']\n",
    "\n",
    "for mean,param in zip(means,params):\n",
    "    print(\"%f with: %r\" % (mean, param))\n",
    "plt.figure()\n",
    "plt.bar(activation,means,width=0.5)\n",
    "plt.xlabel(\"Activation functions\")\n",
    "plt.show()\n"
   ]
  },
  {
   "cell_type": "code",
   "execution_count": 0,
   "metadata": {
    "id": "P4Vk_qZrQwC5",
    "colab_type": "code",
    "outputId": "8f49e30d-6637-4725-9289-28efebb09b70",
    "colab": {
     "base_uri": "https://localhost:8080/",
     "height": 307.0
    }
   },
   "outputs": [
    {
     "data": {
      "image/png": "[encoded data removed]",
      "text/plain": [
       "<Figure size 432x288 with 1 Axes>"
      ]
     },
     "metadata": {
      "tags": []
     },
     "output_type": "display_data"
    }
   ],
   "source": [
    "def createmodel(activation=\"relu\"):\n",
    "  \n",
    "  \n",
    "  model = Sequential()\n",
    "  model.add(Dense(80, input_dim=10, activation=activation))\n",
    "  model.add(Dense(50, activation=activation))\n",
    "  model.add(Dense(40, activation=activation))\n",
    "  model.add(Dense(10, activation=activation))\n",
    "  model.add(Dense(1, activation=activation))\n",
    "\n",
    "  model.compile(optimizer='adam',\n",
    "                loss='binary_crossentropy',\n",
    "                metrics=['accuracy'])\n",
    "  return model\n",
    "\n",
    "model = KerasClassifier(build_fn=createmodel, epochs=10, verbose=2)\n",
    "# define the grid search parameters\n",
    "activation = ['relu', 'tanh', 'sigmoid']\n",
    "param_grid = dict(activation=activation)\n",
    "grid = GridSearchCV(estimator=model, param_grid=param_grid, n_jobs=-1, cv=3)\n",
    "grid_result = grid.fit(std_Xtrain, y_train)\n",
    "\n",
    "print(\"Best: %f using %s\" % (grid_result.best_score_, grid_result.best_params_))\n",
    "means1 = grid_result.cv_results_['mean_test_score']\n",
    "params1 = grid_result.cv_results_['params']\n",
    "\n",
    "for mean,param in zip(means1,params1):\n",
    "    print(\"%f with: %r\" % (mean, param))\n",
    "\n",
    "accuracies=[means[0],means[1],means1[0],means1[1],means1[2]]\n",
    "plt.figure()\n",
    "xaxis=[\"Relu+\\nsigmoid\",\"tanh+sigmoid\",\"Only Relu\",\"Only tanh\",\"Sigmoid\"]\n",
    "plt.bar(xaxis,accuracies,color=\"red\",width=0.5)\n",
    "plt.xlabel(\"Activation functions\")\n",
    "plt.ylabel(\"Accuracy Rate\")\n",
    "plt.title(\"Accuracies for various activation functions\",)\n",
    "plt.show()\n"
   ]
  },
  {
   "cell_type": "code",
   "execution_count": 0,
   "metadata": {
    "id": "HEnTN6x_VpwY",
    "colab_type": "code",
    "outputId": "177d1f9a-2b8d-4209-844e-4e56cf8828cd",
    "colab": {
     "base_uri": "https://localhost:8080/",
     "height": 51.0
    }
   },
   "outputs": [
    {
     "data": {
      "text/plain": [
       "array([0.70319965, 0.75669611, 0.74590995, 0.75119444, 0.75503113,\n",
       "       0.75061532])"
      ]
     },
     "execution_count": 100,
     "metadata": {
      "tags": []
     },
     "output_type": "execute_result"
    }
   ],
   "source": [
    "def createmodel(optimizer=\"adam\"):\n",
    "  \n",
    "  \n",
    "  model = Sequential()\n",
    "  model.add(Dense(80, input_dim=10, activation=\"relu\"))\n",
    "  model.add(Dense(50, activation=\"relu\"))\n",
    "  model.add(Dense(40, activation=\"relu\"))\n",
    "  model.add(Dense(10, activation=\"relu\"))\n",
    "  model.add(Dense(1, activation=\"sigmoid\"))\n",
    "\n",
    "  model.compile(optimizer=optimizer,\n",
    "                loss='binary_crossentropy',\n",
    "                metrics=['accuracy'])\n",
    "  return model\n",
    "\n",
    "model = KerasClassifier(build_fn=createmodel, epochs=10, verbose=2)\n",
    "# define the grid search parameters\n",
    "optimizer = ['SGD', 'RMSprop', 'Adagrad', 'Adadelta', 'Adam', 'Adamax']\n",
    "param_grid = dict(optimizer=optimizer)\n",
    "grid = GridSearchCV(estimator=model, param_grid=param_grid, n_jobs=-1, cv=3)\n",
    "grid_result = grid.fit(std_Xtrain, y_train)\n",
    "\n",
    "print(\"Best: %f using %s\" % (grid_result.best_score_, grid_result.best_params_))\n",
    "means1 = grid_result.cv_results_['mean_test_score']\n",
    "params1 = grid_result.cv_results_['params']\n",
    "for mean,param in zip(means1,params1):\n",
    "    print(\"%f with: %r\" % (mean, param))\n",
    "    \n",
    "plt.bar(optimizer,means1,color=\"green\",width=0.5)\n",
    "plt.xlabel(\"Optimizers\")\n",
    "plt.ylabel(\"Accuracy Rate\")\n",
    "plt.title(\"Accuracies for various optimizers\",)\n",
    "plt.show()"
   ]
  },
  {
   "cell_type": "code",
   "execution_count": 0,
   "metadata": {
    "id": "OivgLXqlcZGZ",
    "colab_type": "code",
    "outputId": "f506b14a-d5cf-41d1-c866-5291ddd01a74",
    "colab": {
     "base_uri": "https://localhost:8080/",
     "height": 425.0
    }
   },
   "outputs": [
    {
     "name": "stdout",
     "output_type": "stream",
     "text": [
      "Epoch 1/10\n",
      "13814/13814 [==============================] - 3s 206us/step - loss: 0.6047 - acc: 0.6865\n",
      "Epoch 2/10\n",
      "13814/13814 [==============================] - 2s 165us/step - loss: 0.5649 - acc: 0.7172\n",
      "Epoch 3/10\n",
      "13814/13814 [==============================] - 2s 167us/step - loss: 0.5494 - acc: 0.7297\n",
      "Epoch 4/10\n",
      "13814/13814 [==============================] - 2s 170us/step - loss: 0.5334 - acc: 0.7393\n",
      "Epoch 5/10\n",
      "13814/13814 [==============================] - 2s 165us/step - loss: 0.5224 - acc: 0.7480\n",
      "Epoch 6/10\n",
      "13814/13814 [==============================] - 2s 164us/step - loss: 0.5095 - acc: 0.7537\n",
      "Epoch 7/10\n",
      "13814/13814 [==============================] - 2s 171us/step - loss: 0.4991 - acc: 0.7616\n",
      "Epoch 8/10\n",
      "13814/13814 [==============================] - 2s 167us/step - loss: 0.4935 - acc: 0.7626\n",
      "Epoch 9/10\n",
      "13814/13814 [==============================] - 2s 167us/step - loss: 0.4873 - acc: 0.7697\n",
      "Epoch 10/10\n",
      "13814/13814 [==============================] - 2s 163us/step - loss: 0.4797 - acc: 0.7735\n",
      "\n",
      "Test accuracy: 0.7674379327816248\n",
      "\n",
      "Train accuracy: 0.778051252344056\n"
     ]
    }
   ],
   "source": [
    "model = Sequential()\n",
    "model.add(Dense(80, input_dim=10, activation=\"relu\"))\n",
    "model.add(Dense(50, activation=\"relu\"))\n",
    "model.add(Dense(40, activation=\"relu\"))\n",
    "model.add(Dense(10, activation=\"relu\"))\n",
    "model.add(Dropout(0.2))\n",
    "\n",
    "model.add(Dense(1, activation=\"sigmoid\"))\n",
    "\n",
    "model.compile(optimizer=\"RMSprop\",\n",
    "              loss='binary_crossentropy',\n",
    "              metrics=['accuracy'])\n",
    "model.fit(std_Xtrain, y_train, epochs=10)\n",
    "test_loss3, test_acc3 = model.evaluate(std_Xtest,  y_test, verbose=2)\n",
    "train_loss3,train_acc3 = model.evaluate(std_Xtrain,  y_train, verbose=2)\n",
    "\n",
    "print('\\nTest accuracy:', test_acc3)\n",
    "print('\\nTrain accuracy:', train_acc3)"
   ]
  },
  {
   "cell_type": "code",
   "execution_count": 0,
   "metadata": {
    "id": "HUpFC6pcdv-V",
    "colab_type": "code",
    "outputId": "a6f04fe5-6aa1-4fbc-8d88-c75aea771983",
    "colab": {
     "base_uri": "https://localhost:8080/",
     "height": 187.0
    }
   },
   "outputs": [
    {
     "name": "stdout",
     "output_type": "stream",
     "text": [
      "0.758578 with: {'dropout_rate': 0.0}\n",
      "0.759085 with: {'dropout_rate': 0.1}\n",
      "0.759302 with: {'dropout_rate': 0.2}\n",
      "0.752280 with: {'dropout_rate': 0.3}\n",
      "0.749457 with: {'dropout_rate': 0.4}\n",
      "0.750688 with: {'dropout_rate': 0.5}\n",
      "0.753366 with: {'dropout_rate': 0.6}\n",
      "0.737151 with: {'dropout_rate': 0.7}\n",
      "0.724627 with: {'dropout_rate': 0.8}\n",
      "0.665195 with: {'dropout_rate': 0.9}\n"
     ]
    }
   ],
   "source": [
    "from keras.layers import Dropout\n",
    "\n",
    "def createmodel(dropout_rate=0.0):\n",
    "  \n",
    "  \n",
    "  model = Sequential()\n",
    "  model.add(Dense(80, input_dim=10, activation=\"relu\"))\n",
    "  model.add(Dense(50, activation=\"relu\"))\n",
    "  model.add(Dense(40, activation=\"relu\"))\n",
    "  model.add(Dense(10, activation=\"relu\"))\n",
    "  model.add(Dropout(dropout_rate))\n",
    "\n",
    "  model.add(Dense(1, activation=\"sigmoid\"))\n",
    "\n",
    "  model.compile(optimizer=\"RMSprop\",\n",
    "                loss='binary_crossentropy',\n",
    "                metrics=['accuracy'])\n",
    "  return model\n",
    "\n",
    "model = KerasClassifier(build_fn=createmodel, epochs=10, verbose=2)\n",
    "# define the grid search parameters\n",
    "dropout_rate = [0.0, 0.1, 0.2, 0.3, 0.4, 0.5, 0.6, 0.7, 0.8, 0.9]\n",
    "param_grid = dict(dropout_rate=dropout_rate)\n",
    "grid = GridSearchCV(estimator=model, param_grid=param_grid, n_jobs=-1, cv=3)\n",
    "grid_result = grid.fit(std_Xtrain, y_train)\n",
    "\n",
    "print(\"Best: %f using %s\" % (grid_result.best_score_, grid_result.best_params_))\n",
    "means1 = grid_result.cv_results_['mean_test_score']\n",
    "params1 = grid_result.cv_results_['params']\n",
    "for mean,param in zip(means1,params1):\n",
    "    print(\"%f with: %r\" % (mean, param))\n",
    "    \n",
    "plt.figure()\n",
    "plt.bar(dropout_rate,means1,color=\"red\",width=0.05)\n",
    "plt.xticks(dropout_rate)\n",
    "plt.xlabel(\"Dropout Rate\")\n",
    "plt.ylabel(\"Accuracy Rate\")\n",
    "plt.title(\"Accuracies for various Dropout rates\")\n",
    "plt.show()"
   ]
  },
  {
   "cell_type": "markdown",
   "metadata": {
    "id": "Gp8_0QJ_1WM1",
    "colab_type": "text"
   },
   "source": [
    "KNN\n",
    "\n"
   ]
  },
  {
   "cell_type": "code",
   "execution_count": 0,
   "metadata": {
    "id": "wHPUNaum1YiY",
    "colab_type": "code",
    "outputId": "ad56e703-3c23-4982-e8ed-4b0c5bfe2821",
    "colab": {
     "base_uri": "https://localhost:8080/",
     "height": 35.0
    }
   },
   "outputs": [
    {
     "data": {
      "text/plain": [
       "(5921,)"
      ]
     },
     "execution_count": 7,
     "metadata": {
      "tags": []
     },
     "output_type": "execute_result"
    }
   ],
   "source": [
    "from sklearn.preprocessing import StandardScaler\n",
    "from sklearn.metrics import confusion_matrix, classification_report, roc_curve, accuracy_score, roc_auc_score\n",
    "from sklearn.model_selection import train_test_split\n",
    "df= pd.read_csv(\"energydata_complete.csv\")\n",
    "\n",
    "df = df.drop(['date'], axis=1)\n",
    "df['Efficiency'] = np.where(df['Appliances'] >= 60, 1, 0)\n",
    "df = df.drop(['Appliances'], axis=1)\n",
    "x = df.drop(['Efficiency'], axis=1)\n",
    "y = df['Efficiency']\n",
    "\n",
    "x_train, x_test, y_train, y_test = train_test_split(x, y, train_size=0.7, random_state=1)\n",
    "scaler = StandardScaler()\n",
    "\n",
    "\n",
    "\n",
    "\n",
    "cols=['T1','RH_1','T2','T3','RH_3','T4','T5','T7','RH_7','T_out']\n",
    "Xtrain=x_train[cols]\n",
    "scaler.fit(Xtrain)\n",
    "\n",
    "std_Xtrain = scaler.transform(Xtrain)\n",
    "Xtest=x_test[cols]\n",
    "std_Xtest = scaler.transform(Xtest)\n",
    "std_Xtrain.shape\n",
    "std_Xtest.shape\n",
    "y_test.shape"
   ]
  },
  {
   "cell_type": "code",
   "execution_count": 0,
   "metadata": {
    "id": "-0rAvi9O3JJK",
    "colab_type": "code",
    "outputId": "d4d5d136-dad3-4d3f-f577-805a4765ba40",
    "colab": {
     "base_uri": "https://localhost:8080/",
     "height": 35.0
    }
   },
   "outputs": [
    {
     "data": {
      "text/plain": [
       "0.11806862603156218"
      ]
     },
     "execution_count": 8,
     "metadata": {
      "tags": []
     },
     "output_type": "execute_result"
    }
   ],
   "source": [
    "from sklearn.neighbors import KNeighborsClassifier\n",
    "classifier = KNeighborsClassifier(n_neighbors=5)\n",
    "classifier.fit(std_Xtrain, y_train)\n",
    "y_pred = classifier.predict(std_Xtrain)\n",
    "\n"
   ]
  },
  {
   "cell_type": "code",
   "execution_count": 0,
   "metadata": {
    "id": "rPKQPvmg3xxM",
    "colab_type": "code",
    "outputId": "a05ee789-ad27-4484-b127-d8bedfecd1b2",
    "colab": {
     "base_uri": "https://localhost:8080/",
     "height": 254.0
    }
   },
   "outputs": [
    {
     "data": {
      "text/plain": [
       "[0.9019834950050674,\n",
       " 0.9097292601708412,\n",
       " 0.8811350803532648,\n",
       " 0.8819313739684378,\n",
       " 0.8660055016649776,\n",
       " 0.8620964239177645,\n",
       " 0.848993774431736,\n",
       " 0.8455914289850875,\n",
       " 0.8393658607210077,\n",
       " 0.8401621543361807,\n",
       " 0.8337918054147966,\n",
       " 0.8332126827855798,\n",
       " 0.8280729694512813]"
      ]
     },
     "execution_count": 19,
     "metadata": {
      "tags": []
     },
     "output_type": "execute_result"
    }
   ],
   "source": [
    "train_error = []\n",
    "test_error=[]\n",
    "train_accuracies=[]\n",
    "test_accuracies=[]\n",
    "\n",
    "# Calculating error for K values between 1 and 40\n",
    "for i in range(2, 15):\n",
    "    knn = KNeighborsClassifier(n_neighbors=i,metric=\"euclidean\")\n",
    "    knn.fit(std_Xtrain, y_train)\n",
    "    train_pred=knn.predict(std_Xtrain)\n",
    "\n",
    "    test_pred = knn.predict(std_Xtest)\n",
    "    \n",
    "    train_accuracies.append(accuracy_score(y_train,train_pred))\n",
    "    test_accuracies.append(accuracy_score(y_test,test_pred))\n",
    "    train_error.append(np.mean(y_train!=train_pred))\n",
    "    test_error.append(np.mean(y_test!=test_pred))"
   ]
  },
  {
   "cell_type": "code",
   "execution_count": 0,
   "metadata": {
    "id": "rrtaIaBj8CKc",
    "colab_type": "code",
    "outputId": "19ee1274-36bb-460d-ba57-c4b5d53ae09f",
    "colab": {
     "base_uri": "https://localhost:8080/",
     "height": 422.0
    }
   },
   "outputs": [
    {
     "data": {
      "text/plain": [
       "Text(0, 0.5, 'Mean Error')"
      ]
     },
     "execution_count": 20,
     "metadata": {
      "tags": []
     },
     "output_type": "execute_result"
    },
    {
     "data": {
      "image/png": "[encoded data removed]",
      "text/plain": [
       "<Figure size 864x432 with 1 Axes>"
      ]
     },
     "metadata": {
      "tags": []
     },
     "output_type": "display_data"
    }
   ],
   "source": [
    "plt.figure(figsize=(12, 6))\n",
    "plt.plot(range(2, 15),train_error, marker='o' ,color='red' )\n",
    "plt.plot(range(2, 15),test_error, marker='o' ,color='blue' )\n",
    "\n",
    "plt.title('KNN - Euclidean')\n",
    "plt.xlabel('K Value')\n",
    "plt.ylabel('Mean Error')"
   ]
  },
  {
   "cell_type": "code",
   "execution_count": 0,
   "metadata": {
    "id": "wO-HSur6kHoH",
    "colab_type": "code",
    "outputId": "eab3ea56-7616-41f6-fa7d-45736f71835a",
    "colab": {
     "base_uri": "https://localhost:8080/",
     "height": 254.0
    }
   },
   "outputs": [
    {
     "data": {
      "text/plain": [
       "[0.803749366661037,\n",
       " 0.8224961999662219,\n",
       " 0.8140516804593818,\n",
       " 0.8181050498226651,\n",
       " 0.8170917074818442,\n",
       " 0.8167539267015707,\n",
       " 0.8162472555311603,\n",
       " 0.8115183246073299,\n",
       " 0.8098294207059619,\n",
       " 0.8081405168045939,\n",
       " 0.8040871474413106,\n",
       " 0.8023982435399426,\n",
       " 0.7991893261273434]"
      ]
     },
     "execution_count": 23,
     "metadata": {
      "tags": []
     },
     "output_type": "execute_result"
    }
   ],
   "source": [
    "train_error = []\n",
    "test_error=[]\n",
    "train_accuracies=[]\n",
    "test_accuracies=[]\n",
    "# Calculating error for K values between 1 and 40\n",
    "for i in range(2, 15):\n",
    "    knn = KNeighborsClassifier(n_neighbors=i,metric=\"manhattan\")\n",
    "    knn.fit(std_Xtrain, y_train)\n",
    "    train_pred=knn.predict(std_Xtrain)\n",
    "\n",
    "    test_pred = knn.predict(std_Xtest)\n",
    "    \n",
    "    train_accuracies.append(accuracy_score(y_train,train_pred))\n",
    "    test_accuracies.append(accuracy_score(y_test,test_pred))\n",
    "    train_error.append(np.mean(y_train!=train_pred))\n",
    "    test_error.append(np.mean(y_test!=test_pred))"
   ]
  },
  {
   "cell_type": "code",
   "execution_count": 0,
   "metadata": {
    "id": "b7wFYtmqkNEG",
    "colab_type": "code",
    "outputId": "86e57cef-bcca-464d-aacf-cc314b25da10",
    "colab": {
     "base_uri": "https://localhost:8080/",
     "height": 422.0
    }
   },
   "outputs": [
    {
     "data": {
      "text/plain": [
       "Text(0, 0.5, 'Mean Error')"
      ]
     },
     "execution_count": 15,
     "metadata": {
      "tags": []
     },
     "output_type": "execute_result"
    },
    {
     "data": {
      "image/png": "[encoded data removed]",
      "text/plain": [
       "<Figure size 864x432 with 1 Axes>"
      ]
     },
     "metadata": {
      "tags": []
     },
     "output_type": "display_data"
    }
   ],
   "source": [
    "plt.figure(figsize=(12, 6))\n",
    "plt.plot(range(2, 15),train_error, marker='o' ,color='red' )\n",
    "plt.plot(range(2, 15),test_error, marker='o' ,color='blue' )\n",
    "\n",
    "plt.title('KNN - Manhattan')\n",
    "plt.xlabel('K Value')\n",
    "plt.ylabel('Mean Error')"
   ]
  },
  {
   "cell_type": "code",
   "execution_count": 0,
   "metadata": {
    "id": "M2qfTDSwpFwE",
    "colab_type": "code",
    "outputId": "7c9cace7-337b-412b-f7d3-b4e807d5d051",
    "colab": {
     "base_uri": "https://localhost:8080/",
     "height": 235.0
    }
   },
   "outputs": [
    {
     "name": "stdout",
     "output_type": "stream",
     "text": [
      "              precision    recall  f1-score   support\n",
      "\n",
      "           0       0.72      0.84      0.77      2211\n",
      "           1       0.89      0.80      0.85      3710\n",
      "\n",
      "    accuracy                           0.82      5921\n",
      "   macro avg       0.81      0.82      0.81      5921\n",
      "weighted avg       0.83      0.82      0.82      5921\n",
      "\n",
      "[[1856  355]\n",
      " [ 733 2977]]\n",
      "0.8162472555311603\n"
     ]
    }
   ],
   "source": [
    "knn = KNeighborsClassifier(n_neighbors=8,metric=\"manhattan\")\n",
    "knn.fit(std_Xtrain, y_train)\n",
    "train_pred=knn.predict(std_Xtrain)\n",
    "\n",
    "test_pred = knn.predict(std_Xtest)\n",
    "print(classification_report(y_test,test_pred))\n",
    "print(confusion_matrix(y_test,test_pred))\n",
    "print(accuracy_score(y_test,test_pred))"
   ]
  }
 ],
 "metadata": {
  "colab": {
   "name": "EnergyData-ANN_and_KNNipynb",
   "provenance": [],
   "collapsed_sections": []
  },
  "kernelspec": {
   "name": "python3",
   "display_name": "Python 3"
  },
  "accelerator": "GPU"
 },
 "nbformat": 4,
 "nbformat_minor": 0
}
