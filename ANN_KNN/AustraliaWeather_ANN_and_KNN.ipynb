{
  "nbformat": 4,
  "nbformat_minor": 0,
  "metadata": {
    "colab": {
      "name": "Copy of Mydataset-neuralnets.ipynb",
      "provenance": [],
      "collapsed_sections": []
    },
    "kernelspec": {
      "name": "python3",
      "display_name": "Python 3"
    }
  },
  "cells": [
    {
      "cell_type": "code",
      "metadata": {
        "id": "kvYIl_FOXjYw",
        "colab_type": "code",
        "outputId": "9176eca2-15ba-468c-cc52-08824ad5df18",
        "colab": {
          "base_uri": "https://localhost:8080/",
          "height": 697
        }
      },
      "source": [
        "import pandas as pd\n",
        "import numpy as np\n",
        "from scipy import stats\n",
        "from sklearn import preprocessing\n",
        "from sklearn.metrics import confusion_matrix, classification_report, roc_curve, accuracy_score, roc_auc_score\n",
        "from sklearn.model_selection import train_test_split\n",
        "import matplotlib.pyplot as plt\n",
        "import tensorflow as tf\n",
        "from tensorflow import keras\n",
        "from keras.models import Sequential\n",
        "from keras.layers import Dense, Activation\n",
        "from sklearn.model_selection import GridSearchCV\n",
        "from keras.wrappers.scikit_learn import KerasClassifier\n",
        "df1= pd.read_csv(\"weatherAUS.csv\")\n",
        "df1.head(10)\n"
      ],
      "execution_count": 0,
      "outputs": [
        {
          "output_type": "stream",
          "text": [
            "Go to this URL in a browser: https://accounts.google.com/o/oauth2/auth?client_id=947318989803-6bn6qk8qdgf4n4g3pfee6491hc0brc4i.apps.googleusercontent.com&redirect_uri=urn%3Aietf%3Awg%3Aoauth%3A2.0%3Aoob&scope=email%20https%3A%2F%2Fwww.googleapis.com%2Fauth%2Fdocs.test%20https%3A%2F%2Fwww.googleapis.com%2Fauth%2Fdrive%20https%3A%2F%2Fwww.googleapis.com%2Fauth%2Fdrive.photos.readonly%20https%3A%2F%2Fwww.googleapis.com%2Fauth%2Fpeopleapi.readonly&response_type=code\n",
            "\n",
            "Enter your authorization code:\n",
            "··········\n",
            "Mounted at /content/gdrive\n"
          ],
          "name": "stdout"
        },
        {
          "output_type": "display_data",
          "data": {
            "text/html": [
              "<p style=\"color: red;\">\n",
              "The default version of TensorFlow in Colab will soon switch to TensorFlow 2.x.<br>\n",
              "We recommend you <a href=\"https://www.tensorflow.org/guide/migrate\" target=\"_blank\">upgrade</a> now \n",
              "or ensure your notebook will continue to use TensorFlow 1.x via the <code>%tensorflow_version 1.x</code> magic:\n",
              "<a href=\"https://colab.research.google.com/notebooks/tensorflow_version.ipynb\" target=\"_blank\">more info</a>.</p>\n"
            ],
            "text/plain": [
              "<IPython.core.display.HTML object>"
            ]
          },
          "metadata": {
            "tags": []
          }
        },
        {
          "output_type": "stream",
          "text": [
            "Using TensorFlow backend.\n"
          ],
          "name": "stderr"
        },
        {
          "output_type": "execute_result",
          "data": {
            "text/html": [
              "<div>\n",
              "<style scoped>\n",
              "    .dataframe tbody tr th:only-of-type {\n",
              "        vertical-align: middle;\n",
              "    }\n",
              "\n",
              "    .dataframe tbody tr th {\n",
              "        vertical-align: top;\n",
              "    }\n",
              "\n",
              "    .dataframe thead th {\n",
              "        text-align: right;\n",
              "    }\n",
              "</style>\n",
              "<table border=\"1\" class=\"dataframe\">\n",
              "  <thead>\n",
              "    <tr style=\"text-align: right;\">\n",
              "      <th></th>\n",
              "      <th>Date</th>\n",
              "      <th>Location</th>\n",
              "      <th>MinTemp</th>\n",
              "      <th>MaxTemp</th>\n",
              "      <th>Rainfall</th>\n",
              "      <th>Evaporation</th>\n",
              "      <th>Sunshine</th>\n",
              "      <th>WindGustDir</th>\n",
              "      <th>WindGustSpeed</th>\n",
              "      <th>WindDir9am</th>\n",
              "      <th>WindDir3pm</th>\n",
              "      <th>WindSpeed9am</th>\n",
              "      <th>WindSpeed3pm</th>\n",
              "      <th>Humidity9am</th>\n",
              "      <th>Humidity3pm</th>\n",
              "      <th>Pressure9am</th>\n",
              "      <th>Pressure3pm</th>\n",
              "      <th>Cloud9am</th>\n",
              "      <th>Cloud3pm</th>\n",
              "      <th>Temp9am</th>\n",
              "      <th>Temp3pm</th>\n",
              "      <th>RainToday</th>\n",
              "      <th>RISK_MM</th>\n",
              "      <th>RainTomorrow</th>\n",
              "    </tr>\n",
              "  </thead>\n",
              "  <tbody>\n",
              "    <tr>\n",
              "      <th>0</th>\n",
              "      <td>2008-12-01</td>\n",
              "      <td>Albury</td>\n",
              "      <td>13.4</td>\n",
              "      <td>22.9</td>\n",
              "      <td>0.6</td>\n",
              "      <td>NaN</td>\n",
              "      <td>NaN</td>\n",
              "      <td>W</td>\n",
              "      <td>44.0</td>\n",
              "      <td>W</td>\n",
              "      <td>WNW</td>\n",
              "      <td>20.0</td>\n",
              "      <td>24.0</td>\n",
              "      <td>71.0</td>\n",
              "      <td>22.0</td>\n",
              "      <td>1007.7</td>\n",
              "      <td>1007.1</td>\n",
              "      <td>8.0</td>\n",
              "      <td>NaN</td>\n",
              "      <td>16.9</td>\n",
              "      <td>21.8</td>\n",
              "      <td>No</td>\n",
              "      <td>0.0</td>\n",
              "      <td>No</td>\n",
              "    </tr>\n",
              "    <tr>\n",
              "      <th>1</th>\n",
              "      <td>2008-12-02</td>\n",
              "      <td>Albury</td>\n",
              "      <td>7.4</td>\n",
              "      <td>25.1</td>\n",
              "      <td>0.0</td>\n",
              "      <td>NaN</td>\n",
              "      <td>NaN</td>\n",
              "      <td>WNW</td>\n",
              "      <td>44.0</td>\n",
              "      <td>NNW</td>\n",
              "      <td>WSW</td>\n",
              "      <td>4.0</td>\n",
              "      <td>22.0</td>\n",
              "      <td>44.0</td>\n",
              "      <td>25.0</td>\n",
              "      <td>1010.6</td>\n",
              "      <td>1007.8</td>\n",
              "      <td>NaN</td>\n",
              "      <td>NaN</td>\n",
              "      <td>17.2</td>\n",
              "      <td>24.3</td>\n",
              "      <td>No</td>\n",
              "      <td>0.0</td>\n",
              "      <td>No</td>\n",
              "    </tr>\n",
              "    <tr>\n",
              "      <th>2</th>\n",
              "      <td>2008-12-03</td>\n",
              "      <td>Albury</td>\n",
              "      <td>12.9</td>\n",
              "      <td>25.7</td>\n",
              "      <td>0.0</td>\n",
              "      <td>NaN</td>\n",
              "      <td>NaN</td>\n",
              "      <td>WSW</td>\n",
              "      <td>46.0</td>\n",
              "      <td>W</td>\n",
              "      <td>WSW</td>\n",
              "      <td>19.0</td>\n",
              "      <td>26.0</td>\n",
              "      <td>38.0</td>\n",
              "      <td>30.0</td>\n",
              "      <td>1007.6</td>\n",
              "      <td>1008.7</td>\n",
              "      <td>NaN</td>\n",
              "      <td>2.0</td>\n",
              "      <td>21.0</td>\n",
              "      <td>23.2</td>\n",
              "      <td>No</td>\n",
              "      <td>0.0</td>\n",
              "      <td>No</td>\n",
              "    </tr>\n",
              "    <tr>\n",
              "      <th>3</th>\n",
              "      <td>2008-12-04</td>\n",
              "      <td>Albury</td>\n",
              "      <td>9.2</td>\n",
              "      <td>28.0</td>\n",
              "      <td>0.0</td>\n",
              "      <td>NaN</td>\n",
              "      <td>NaN</td>\n",
              "      <td>NE</td>\n",
              "      <td>24.0</td>\n",
              "      <td>SE</td>\n",
              "      <td>E</td>\n",
              "      <td>11.0</td>\n",
              "      <td>9.0</td>\n",
              "      <td>45.0</td>\n",
              "      <td>16.0</td>\n",
              "      <td>1017.6</td>\n",
              "      <td>1012.8</td>\n",
              "      <td>NaN</td>\n",
              "      <td>NaN</td>\n",
              "      <td>18.1</td>\n",
              "      <td>26.5</td>\n",
              "      <td>No</td>\n",
              "      <td>1.0</td>\n",
              "      <td>No</td>\n",
              "    </tr>\n",
              "    <tr>\n",
              "      <th>4</th>\n",
              "      <td>2008-12-05</td>\n",
              "      <td>Albury</td>\n",
              "      <td>17.5</td>\n",
              "      <td>32.3</td>\n",
              "      <td>1.0</td>\n",
              "      <td>NaN</td>\n",
              "      <td>NaN</td>\n",
              "      <td>W</td>\n",
              "      <td>41.0</td>\n",
              "      <td>ENE</td>\n",
              "      <td>NW</td>\n",
              "      <td>7.0</td>\n",
              "      <td>20.0</td>\n",
              "      <td>82.0</td>\n",
              "      <td>33.0</td>\n",
              "      <td>1010.8</td>\n",
              "      <td>1006.0</td>\n",
              "      <td>7.0</td>\n",
              "      <td>8.0</td>\n",
              "      <td>17.8</td>\n",
              "      <td>29.7</td>\n",
              "      <td>No</td>\n",
              "      <td>0.2</td>\n",
              "      <td>No</td>\n",
              "    </tr>\n",
              "    <tr>\n",
              "      <th>5</th>\n",
              "      <td>2008-12-06</td>\n",
              "      <td>Albury</td>\n",
              "      <td>14.6</td>\n",
              "      <td>29.7</td>\n",
              "      <td>0.2</td>\n",
              "      <td>NaN</td>\n",
              "      <td>NaN</td>\n",
              "      <td>WNW</td>\n",
              "      <td>56.0</td>\n",
              "      <td>W</td>\n",
              "      <td>W</td>\n",
              "      <td>19.0</td>\n",
              "      <td>24.0</td>\n",
              "      <td>55.0</td>\n",
              "      <td>23.0</td>\n",
              "      <td>1009.2</td>\n",
              "      <td>1005.4</td>\n",
              "      <td>NaN</td>\n",
              "      <td>NaN</td>\n",
              "      <td>20.6</td>\n",
              "      <td>28.9</td>\n",
              "      <td>No</td>\n",
              "      <td>0.0</td>\n",
              "      <td>No</td>\n",
              "    </tr>\n",
              "    <tr>\n",
              "      <th>6</th>\n",
              "      <td>2008-12-07</td>\n",
              "      <td>Albury</td>\n",
              "      <td>14.3</td>\n",
              "      <td>25.0</td>\n",
              "      <td>0.0</td>\n",
              "      <td>NaN</td>\n",
              "      <td>NaN</td>\n",
              "      <td>W</td>\n",
              "      <td>50.0</td>\n",
              "      <td>SW</td>\n",
              "      <td>W</td>\n",
              "      <td>20.0</td>\n",
              "      <td>24.0</td>\n",
              "      <td>49.0</td>\n",
              "      <td>19.0</td>\n",
              "      <td>1009.6</td>\n",
              "      <td>1008.2</td>\n",
              "      <td>1.0</td>\n",
              "      <td>NaN</td>\n",
              "      <td>18.1</td>\n",
              "      <td>24.6</td>\n",
              "      <td>No</td>\n",
              "      <td>0.0</td>\n",
              "      <td>No</td>\n",
              "    </tr>\n",
              "    <tr>\n",
              "      <th>7</th>\n",
              "      <td>2008-12-08</td>\n",
              "      <td>Albury</td>\n",
              "      <td>7.7</td>\n",
              "      <td>26.7</td>\n",
              "      <td>0.0</td>\n",
              "      <td>NaN</td>\n",
              "      <td>NaN</td>\n",
              "      <td>W</td>\n",
              "      <td>35.0</td>\n",
              "      <td>SSE</td>\n",
              "      <td>W</td>\n",
              "      <td>6.0</td>\n",
              "      <td>17.0</td>\n",
              "      <td>48.0</td>\n",
              "      <td>19.0</td>\n",
              "      <td>1013.4</td>\n",
              "      <td>1010.1</td>\n",
              "      <td>NaN</td>\n",
              "      <td>NaN</td>\n",
              "      <td>16.3</td>\n",
              "      <td>25.5</td>\n",
              "      <td>No</td>\n",
              "      <td>0.0</td>\n",
              "      <td>No</td>\n",
              "    </tr>\n",
              "    <tr>\n",
              "      <th>8</th>\n",
              "      <td>2008-12-09</td>\n",
              "      <td>Albury</td>\n",
              "      <td>9.7</td>\n",
              "      <td>31.9</td>\n",
              "      <td>0.0</td>\n",
              "      <td>NaN</td>\n",
              "      <td>NaN</td>\n",
              "      <td>NNW</td>\n",
              "      <td>80.0</td>\n",
              "      <td>SE</td>\n",
              "      <td>NW</td>\n",
              "      <td>7.0</td>\n",
              "      <td>28.0</td>\n",
              "      <td>42.0</td>\n",
              "      <td>9.0</td>\n",
              "      <td>1008.9</td>\n",
              "      <td>1003.6</td>\n",
              "      <td>NaN</td>\n",
              "      <td>NaN</td>\n",
              "      <td>18.3</td>\n",
              "      <td>30.2</td>\n",
              "      <td>No</td>\n",
              "      <td>1.4</td>\n",
              "      <td>Yes</td>\n",
              "    </tr>\n",
              "    <tr>\n",
              "      <th>9</th>\n",
              "      <td>2008-12-10</td>\n",
              "      <td>Albury</td>\n",
              "      <td>13.1</td>\n",
              "      <td>30.1</td>\n",
              "      <td>1.4</td>\n",
              "      <td>NaN</td>\n",
              "      <td>NaN</td>\n",
              "      <td>W</td>\n",
              "      <td>28.0</td>\n",
              "      <td>S</td>\n",
              "      <td>SSE</td>\n",
              "      <td>15.0</td>\n",
              "      <td>11.0</td>\n",
              "      <td>58.0</td>\n",
              "      <td>27.0</td>\n",
              "      <td>1007.0</td>\n",
              "      <td>1005.7</td>\n",
              "      <td>NaN</td>\n",
              "      <td>NaN</td>\n",
              "      <td>20.1</td>\n",
              "      <td>28.2</td>\n",
              "      <td>Yes</td>\n",
              "      <td>0.0</td>\n",
              "      <td>No</td>\n",
              "    </tr>\n",
              "  </tbody>\n",
              "</table>\n",
              "</div>"
            ],
            "text/plain": [
              "         Date Location  MinTemp  ...  RainToday  RISK_MM  RainTomorrow\n",
              "0  2008-12-01   Albury     13.4  ...         No      0.0            No\n",
              "1  2008-12-02   Albury      7.4  ...         No      0.0            No\n",
              "2  2008-12-03   Albury     12.9  ...         No      0.0            No\n",
              "3  2008-12-04   Albury      9.2  ...         No      1.0            No\n",
              "4  2008-12-05   Albury     17.5  ...         No      0.2            No\n",
              "5  2008-12-06   Albury     14.6  ...         No      0.0            No\n",
              "6  2008-12-07   Albury     14.3  ...         No      0.0            No\n",
              "7  2008-12-08   Albury      7.7  ...         No      0.0            No\n",
              "8  2008-12-09   Albury      9.7  ...         No      1.4           Yes\n",
              "9  2008-12-10   Albury     13.1  ...        Yes      0.0            No\n",
              "\n",
              "[10 rows x 24 columns]"
            ]
          },
          "metadata": {
            "tags": []
          },
          "execution_count": 1
        }
      ]
    },
    {
      "cell_type": "code",
      "metadata": {
        "id": "HepaYLlVcKp7",
        "colab_type": "code",
        "outputId": "b6cc7563-e984-470b-cedc-3387c698f255",
        "colab": {
          "base_uri": "https://localhost:8080/",
          "height": 35
        }
      },
      "source": [
        "df1['MinTemp'] = df1['MinTemp'].fillna((df1['MinTemp'].mean()))\n",
        "df1['MaxTemp'] = df1['MaxTemp'].fillna((df1['MaxTemp'].mean()))\n",
        "df1['Rainfall'] = df1['Rainfall'].fillna((df1['Rainfall'].mean()))\n",
        "df1['Evaporation'] = df1['Evaporation'].fillna((df1['Evaporation'].mean()))\n",
        "df1['Sunshine'] = df1['Sunshine'].fillna((df1['Sunshine'].mean()))\n",
        "df1['WindGustSpeed'] = df1['WindGustSpeed'].fillna((df1['WindGustSpeed'].mean()))\n",
        "df1['WindSpeed9am'] = df1['WindSpeed9am'].fillna((df1['WindSpeed9am'].mean()))\n",
        "df1['WindSpeed3pm'] = df1['WindSpeed3pm'].fillna((df1['WindSpeed3pm'].mean()))\n",
        "df1['Humidity9am'] = df1['Humidity9am'].fillna((df1['Humidity9am'].mean()))\n",
        "df1['Humidity3pm'] = df1['Humidity3pm'].fillna((df1['Humidity3pm'].mean()))\n",
        "df1['Pressure9am'] = df1['Pressure9am'].fillna((df1['Pressure9am'].mean()))\n",
        "df1['Pressure3pm'] = df1['Pressure3pm'].fillna((df1['Pressure3pm'].mean()))\n",
        "df1['Cloud9am'] = df1['Cloud9am'].fillna((df1['Cloud9am'].mean()))\n",
        "df1['Cloud3pm'] = df1['Cloud3pm'].fillna((df1['Cloud3pm'].mean()))\n",
        "df1['Temp3pm'] = df1['Temp3pm'].fillna((df1['Temp3pm'].mean()))\n",
        "df1['Temp9am'] = df1['Temp9am'].fillna((df1['Temp9am'].mean()))\n",
        "df1['RISK_MM'] = df1['RISK_MM'].fillna((df1['RISK_MM'].mean()))\n",
        "df1['WindGustDir'] = df1['WindGustDir'].fillna(\"W\")\n",
        "df1['WindDir9am'] = df1['WindDir9am'].fillna(\"N\")\n",
        "df1['WindDir3pm'] = df1['WindDir3pm'].fillna(\"SE\")\n",
        "df1['RainToday'] = df1['RainToday'].fillna(\"No\")\n",
        "df1 = df1.drop([\"Date\", \"Location\", \"RISK_MM\"], axis=1)\n",
        "df1 = df1.drop('WindGustDir', axis=1)\n",
        "df1 = df1.drop('WindDir3pm', axis=1)\n",
        "df1 = df1.drop('WindDir9am', axis=1)\n",
        "df1 = df1.drop('RainToday', axis=1)\n",
        "df1['RainTomorrow'].replace({'No': 0, 'Yes': 1}, inplace=True)\n",
        "\n",
        "num_cols = df1.columns[df1.dtypes.apply(lambda c: np.issubdtype(c, np.number))]\n",
        "\n",
        "z = np.abs(stats.zscore(df1[num_cols]))\n",
        "print(z)\n",
        "df1 = df1[(z < 3).all(axis=1)]\n",
        "print(df1.shape)\n",
        "\n",
        "df2 = df1.sample(n=20000, random_state=1)\n",
        "x = df2.drop(['RainTomorrow'], axis=1)\n",
        "y = df2['RainTomorrow']\n",
        "x_train1, x_test1, y_train1, y_test1 = train_test_split(x, y, train_size=0.7, random_state=1, shuffle=True)\n",
        "std_Xtrain1 = preprocessing.scale(x_train1)\n",
        "std_Xtest1 = preprocessing.scale(x_test1)\n",
        "std_Xtrain1.shape\n",
        "std_Xtest1.shape\n"
      ],
      "execution_count": 0,
      "outputs": [
        {
          "output_type": "execute_result",
          "data": {
            "text/plain": [
              "(14000, 16)"
            ]
          },
          "metadata": {
            "tags": []
          },
          "execution_count": 4
        }
      ]
    },
    {
      "cell_type": "code",
      "metadata": {
        "id": "CeB-p7Cpeumk",
        "colab_type": "code",
        "outputId": "e520b581-2f08-4f6b-9ee5-72771f7453aa",
        "colab": {
          "base_uri": "https://localhost:8080/",
          "height": 717
        }
      },
      "source": [
        "model = Sequential()\n",
        "model.add(Dense(50, input_dim=16, activation=\"relu\"))\n",
        "model.add(Dense(30, activation=\"relu\"))\n",
        "model.add(Dense(1, activation=\"sigmoid\"))\n",
        "\n",
        "model.compile(optimizer=\"adam\",\n",
        "              loss='binary_crossentropy',\n",
        "              metrics=['accuracy'])\n",
        "model.fit(std_Xtrain1, y_train1, epochs=10)\n",
        "test_loss3, test_acc3 = model.evaluate(std_Xtest1,  y_test1, verbose=2)\n",
        "train_loss3,train_acc3 = model.evaluate(std_Xtrain1,  y_train1, verbose=2)\n",
        "\n",
        "print('\\nTest accuracy:', test_acc3)\n",
        "print('\\nTrain accuracy:', train_acc3)"
      ],
      "execution_count": 0,
      "outputs": [
        {
          "output_type": "stream",
          "text": [
            "WARNING:tensorflow:From /usr/local/lib/python3.6/dist-packages/keras/backend/tensorflow_backend.py:1033: The name tf.assign_add is deprecated. Please use tf.compat.v1.assign_add instead.\n",
            "\n",
            "WARNING:tensorflow:From /usr/local/lib/python3.6/dist-packages/keras/backend/tensorflow_backend.py:1020: The name tf.assign is deprecated. Please use tf.compat.v1.assign instead.\n",
            "\n",
            "WARNING:tensorflow:From /usr/local/lib/python3.6/dist-packages/keras/backend/tensorflow_backend.py:3005: The name tf.Session is deprecated. Please use tf.compat.v1.Session instead.\n",
            "\n",
            "Epoch 1/10\n",
            "WARNING:tensorflow:From /usr/local/lib/python3.6/dist-packages/keras/backend/tensorflow_backend.py:190: The name tf.get_default_session is deprecated. Please use tf.compat.v1.get_default_session instead.\n",
            "\n",
            "WARNING:tensorflow:From /usr/local/lib/python3.6/dist-packages/keras/backend/tensorflow_backend.py:197: The name tf.ConfigProto is deprecated. Please use tf.compat.v1.ConfigProto instead.\n",
            "\n",
            "WARNING:tensorflow:From /usr/local/lib/python3.6/dist-packages/keras/backend/tensorflow_backend.py:207: The name tf.global_variables is deprecated. Please use tf.compat.v1.global_variables instead.\n",
            "\n",
            "WARNING:tensorflow:From /usr/local/lib/python3.6/dist-packages/keras/backend/tensorflow_backend.py:216: The name tf.is_variable_initialized is deprecated. Please use tf.compat.v1.is_variable_initialized instead.\n",
            "\n",
            "WARNING:tensorflow:From /usr/local/lib/python3.6/dist-packages/keras/backend/tensorflow_backend.py:223: The name tf.variables_initializer is deprecated. Please use tf.compat.v1.variables_initializer instead.\n",
            "\n",
            "14000/14000 [==============================] - 1s 100us/step - loss: 0.4014 - acc: 0.8161\n",
            "Epoch 2/10\n",
            "14000/14000 [==============================] - 1s 41us/step - loss: 0.3583 - acc: 0.8444\n",
            "Epoch 3/10\n",
            "14000/14000 [==============================] - 1s 42us/step - loss: 0.3520 - acc: 0.8455\n",
            "Epoch 4/10\n",
            "14000/14000 [==============================] - 1s 41us/step - loss: 0.3485 - acc: 0.8486\n",
            "Epoch 5/10\n",
            "14000/14000 [==============================] - 1s 40us/step - loss: 0.3453 - acc: 0.8482\n",
            "Epoch 6/10\n",
            "14000/14000 [==============================] - 1s 41us/step - loss: 0.3432 - acc: 0.8498\n",
            "Epoch 7/10\n",
            "14000/14000 [==============================] - 1s 41us/step - loss: 0.3411 - acc: 0.8523\n",
            "Epoch 8/10\n",
            "14000/14000 [==============================] - 1s 43us/step - loss: 0.3391 - acc: 0.8513\n",
            "Epoch 9/10\n",
            "14000/14000 [==============================] - 1s 41us/step - loss: 0.3381 - acc: 0.8516\n",
            "Epoch 10/10\n",
            "14000/14000 [==============================] - 1s 42us/step - loss: 0.3363 - acc: 0.8520\n",
            "\n",
            "Test accuracy: 0.8511666666666666\n",
            "\n",
            "Train accuracy: 0.8549285714285715\n"
          ],
          "name": "stdout"
        }
      ]
    },
    {
      "cell_type": "code",
      "metadata": {
        "id": "xV_TjHr0iI3c",
        "colab_type": "code",
        "outputId": "2076efbd-1c5d-46d3-edae-3147505fd99b",
        "colab": {
          "base_uri": "https://localhost:8080/",
          "height": 425
        }
      },
      "source": [
        "model = Sequential()\n",
        "model.add(Dense(70, input_dim=16, activation='relu'))\n",
        "model.add(Dense(50,  activation='relu'))\n",
        "model.add(Dense(40, activation='relu'))\n",
        "model.add(Dense(30, activation='relu'))\n",
        "model.add(Dense(1, activation='sigmoid'))\n",
        "\n",
        "model.compile(optimizer='adam',\n",
        "              loss='binary_crossentropy',\n",
        "              metrics=['accuracy'])\n",
        "model.fit(std_Xtrain1, y_train1, epochs=10,batch_size=20)\n",
        "test_loss3, test_acc3 = model.evaluate(std_Xtest1,  y_test1, verbose=2)\n",
        "train_loss3,train_acc3 = model.evaluate(std_Xtrain1,  y_train1, verbose=2)\n",
        "\n",
        "print('\\nTest accuracy:', test_acc3)\n",
        "print('\\nTrain accuracy:', train_acc3)"
      ],
      "execution_count": 0,
      "outputs": [
        {
          "output_type": "stream",
          "text": [
            "Epoch 1/10\n",
            "14000/14000 [==============================] - 2s 115us/step - loss: 0.3811 - acc: 0.8349\n",
            "Epoch 2/10\n",
            "14000/14000 [==============================] - 1s 85us/step - loss: 0.3565 - acc: 0.8452\n",
            "Epoch 3/10\n",
            "14000/14000 [==============================] - 1s 85us/step - loss: 0.3513 - acc: 0.8461\n",
            "Epoch 4/10\n",
            "14000/14000 [==============================] - 1s 88us/step - loss: 0.3452 - acc: 0.8493\n",
            "Epoch 5/10\n",
            "14000/14000 [==============================] - 1s 86us/step - loss: 0.3406 - acc: 0.8492\n",
            "Epoch 6/10\n",
            "14000/14000 [==============================] - 1s 84us/step - loss: 0.3382 - acc: 0.8499\n",
            "Epoch 7/10\n",
            "14000/14000 [==============================] - 1s 80us/step - loss: 0.3351 - acc: 0.8549\n",
            "Epoch 8/10\n",
            "14000/14000 [==============================] - 1s 78us/step - loss: 0.3312 - acc: 0.8542\n",
            "Epoch 9/10\n",
            "14000/14000 [==============================] - 1s 78us/step - loss: 0.3285 - acc: 0.8562\n",
            "Epoch 10/10\n",
            "14000/14000 [==============================] - 1s 78us/step - loss: 0.3236 - acc: 0.8569\n",
            "\n",
            "Test accuracy: 0.8486666666666667\n",
            "\n",
            "Train accuracy: 0.8607142857142858\n"
          ],
          "name": "stdout"
        }
      ]
    },
    {
      "cell_type": "code",
      "metadata": {
        "id": "Qi7EQOYDjXy8",
        "colab_type": "code",
        "outputId": "d6bc3a49-4480-46ee-e297-ffaf2b2a87e9",
        "colab": {
          "base_uri": "https://localhost:8080/",
          "height": 425
        }
      },
      "source": [
        "model = Sequential()\n",
        "model.add(Dense(50, input_dim=16, activation='relu'))\n",
        "model.add(Dense(40, activation='relu'))\n",
        "model.add(Dense(30, activation='relu'))\n",
        "model.add(Dense(1, activation='sigmoid'))\n",
        "\n",
        "model.compile(optimizer='adam',\n",
        "              loss='binary_crossentropy',\n",
        "              metrics=['accuracy'])\n",
        "model.fit(std_Xtrain1, y_train1, epochs=10,batch_size=20)\n",
        "test_loss2, test_acc2 = model.evaluate(std_Xtest1,  y_test1, verbose=2)\n",
        "train_loss2,train_acc2 = model.evaluate(std_Xtrain1,  y_train1, verbose=2)\n",
        "\n",
        "print('\\nTest accuracy:', test_acc2)\n",
        "print('\\nTrain accuracy:', train_acc2)"
      ],
      "execution_count": 0,
      "outputs": [
        {
          "output_type": "stream",
          "text": [
            "Epoch 1/10\n",
            "14000/14000 [==============================] - 1s 105us/step - loss: 0.3811 - acc: 0.8339\n",
            "Epoch 2/10\n",
            "14000/14000 [==============================] - 1s 73us/step - loss: 0.3539 - acc: 0.8471\n",
            "Epoch 3/10\n",
            "14000/14000 [==============================] - 1s 72us/step - loss: 0.3479 - acc: 0.8479\n",
            "Epoch 4/10\n",
            "14000/14000 [==============================] - 1s 73us/step - loss: 0.3448 - acc: 0.8520\n",
            "Epoch 5/10\n",
            "14000/14000 [==============================] - 1s 74us/step - loss: 0.3409 - acc: 0.8525\n",
            "Epoch 6/10\n",
            "14000/14000 [==============================] - 1s 74us/step - loss: 0.3387 - acc: 0.8534\n",
            "Epoch 7/10\n",
            "14000/14000 [==============================] - 1s 75us/step - loss: 0.3358 - acc: 0.8560\n",
            "Epoch 8/10\n",
            "14000/14000 [==============================] - 1s 70us/step - loss: 0.3329 - acc: 0.8561\n",
            "Epoch 9/10\n",
            "14000/14000 [==============================] - 1s 71us/step - loss: 0.3314 - acc: 0.8578\n",
            "Epoch 10/10\n",
            "14000/14000 [==============================] - 1s 72us/step - loss: 0.3278 - acc: 0.8572\n",
            "\n",
            "Test accuracy: 0.852\n",
            "\n",
            "Train accuracy: 0.86\n"
          ],
          "name": "stdout"
        }
      ]
    },
    {
      "cell_type": "code",
      "metadata": {
        "id": "NnJ96d8nlFnj",
        "colab_type": "code",
        "outputId": "eb6a3163-add0-4ae3-b0c4-44eeb7fed828",
        "colab": {
          "base_uri": "https://localhost:8080/",
          "height": 425
        }
      },
      "source": [
        "model = Sequential()\n",
        "model.add(Dense(50, input_dim=16, activation='relu'))\n",
        "model.add(Dense(40, activation='relu'))\n",
        "model.add(Dense(1, activation='sigmoid'))\n",
        "\n",
        "model.compile(optimizer='adam',\n",
        "              loss='binary_crossentropy',\n",
        "              metrics=['accuracy'])\n",
        "model.fit(std_Xtrain1, y_train1, epochs=10,batch_size=20)\n",
        "test_loss1, test_acc1 = model.evaluate(std_Xtest1,  y_test1, verbose=2)\n",
        "train_loss1,train_acc1 = model.evaluate(std_Xtrain1,  y_train1, verbose=2)\n",
        "\n",
        "print('\\nTest accuracy:', test_acc1)\n",
        "print('\\nTrain accuracy:', train_acc1)"
      ],
      "execution_count": 0,
      "outputs": [
        {
          "output_type": "stream",
          "text": [
            "Epoch 1/10\n",
            "14000/14000 [==============================] - 1s 105us/step - loss: 0.3870 - acc: 0.8291\n",
            "Epoch 2/10\n",
            "14000/14000 [==============================] - 1s 71us/step - loss: 0.3562 - acc: 0.8453\n",
            "Epoch 3/10\n",
            "14000/14000 [==============================] - 1s 73us/step - loss: 0.3504 - acc: 0.8469\n",
            "Epoch 4/10\n",
            "14000/14000 [==============================] - 1s 71us/step - loss: 0.3477 - acc: 0.8480\n",
            "Epoch 5/10\n",
            "14000/14000 [==============================] - 1s 71us/step - loss: 0.3459 - acc: 0.8479\n",
            "Epoch 6/10\n",
            "14000/14000 [==============================] - 1s 72us/step - loss: 0.3423 - acc: 0.8506\n",
            "Epoch 7/10\n",
            "14000/14000 [==============================] - 1s 75us/step - loss: 0.3414 - acc: 0.8499\n",
            "Epoch 8/10\n",
            "14000/14000 [==============================] - 1s 72us/step - loss: 0.3390 - acc: 0.8515\n",
            "Epoch 9/10\n",
            "14000/14000 [==============================] - 1s 75us/step - loss: 0.3371 - acc: 0.8514\n",
            "Epoch 10/10\n",
            "14000/14000 [==============================] - 1s 78us/step - loss: 0.3356 - acc: 0.8541\n",
            "\n",
            "Test accuracy: 0.849\n",
            "\n",
            "Train accuracy: 0.8567857142857143\n"
          ],
          "name": "stdout"
        }
      ]
    },
    {
      "cell_type": "code",
      "metadata": {
        "id": "Q7azy7FmlcO9",
        "colab_type": "code",
        "outputId": "7824c681-3f17-48f9-c7a8-42a556181968",
        "colab": {
          "base_uri": "https://localhost:8080/",
          "height": 34
        }
      },
      "source": [
        "train_errors=[train_acc1,train_acc2,train_acc3]\n",
        "test_errors=[test_acc1,test_acc2,test_acc3]\n",
        "x=[2,3,4]\n",
        "plt.figure()\n",
        "plt.plot(x,train_errors,label='train accuracy')\n",
        "plt.plot(x,test_errors,label='test accuracy')\n",
        "plt.xlabel(\"Number of layers\")\n",
        "plt.xticks([2,3,4])\n",
        "plt.ylabel(\"Accuracy\")\n",
        "plt.legend()\n",
        "plt.show()\n",
        "\n",
        "train_errors\n",
        "test_errors"
      ],
      "execution_count": 0,
      "outputs": [
        {
          "output_type": "execute_result",
          "data": {
            "text/plain": [
              "[0.849, 0.852, 0.8486666666666667]"
            ]
          },
          "metadata": {
            "tags": []
          },
          "execution_count": 32
        }
      ]
    },
    {
      "cell_type": "code",
      "metadata": {
        "id": "JhJ0BIJLmcDb",
        "colab_type": "code",
        "outputId": "dc2b833d-1dfb-425b-c3d4-7a816754344c",
        "colab": {
          "base_uri": "https://localhost:8080/",
          "height": 295
        }
      },
      "source": [
        "\n",
        "def createmodel(neurons=40):\n",
        "  \n",
        "  model = Sequential()\n",
        "  model.add(Dense(neurons, input_dim=16, activation='relu'))\n",
        "  model.add(Dense(40, activation='relu'))\n",
        "  model.add(Dense(30, activation='relu'))\n",
        "  model.add(Dense(1, activation='sigmoid'))\n",
        "\n",
        "  model.compile(optimizer='adam',\n",
        "                loss='binary_crossentropy',\n",
        "                metrics=['accuracy'])\n",
        "  return model\n",
        "  \n",
        "model = KerasClassifier(build_fn=createmodel, epochs=10, verbose=2)\n",
        "# define the grid search parameters\n",
        "neurons = [40,50,60,70]\n",
        "param_grid = dict(neurons=neurons)\n",
        "grid = GridSearchCV(estimator=model, param_grid=param_grid, n_jobs=-1, cv=3)\n",
        "grid_result = grid.fit(std_Xtrain1, y_train1)\n",
        "\n",
        "print(\"Best: %f using %s\" % (grid_result.best_score_, grid_result.best_params_))\n",
        "means = grid_result.cv_results_['mean_test_score']\n",
        "params = grid_result.cv_results_['params']\n",
        "\n",
        "for mean,param in zip(means,params):\n",
        "    print(\"%f with: %r\" % (mean, param))\n",
        "plt.figure()\n",
        "plt.plot(neurons,means)\n",
        "plt.xticks(neurons)\n",
        "plt.xlabel(\"No. of neurons\")\n",
        "plt.ylabel(\"Accuracy\")\n",
        "plt.title(\"No. of neurons in hidden layer1\")\n",
        "plt.show()"
      ],
      "execution_count": 0,
      "outputs": [
        {
          "output_type": "display_data",
          "data": {
            "image/png": "[encoded data removed]",
            "text/plain": [
              "<Figure size 432x288 with 1 Axes>"
            ]
          },
          "metadata": {
            "tags": []
          }
        }
      ]
    },
    {
      "cell_type": "code",
      "metadata": {
        "id": "CX_KcEP1nu7k",
        "colab_type": "code",
        "outputId": "3b0c0e3a-ee8d-465f-d61f-06fa7e41dc9e",
        "colab": {
          "base_uri": "https://localhost:8080/",
          "height": 703
        }
      },
      "source": [
        "def createmodel(neurons=30):\n",
        "  \n",
        "  model = Sequential()\n",
        "  model.add(Dense(70, input_dim=16, activation='relu'))\n",
        "  model.add(Dense(neurons, activation='relu'))\n",
        "  model.add(Dense(30, activation='relu'))\n",
        "  model.add(Dense(1, activation='sigmoid'))\n",
        "\n",
        "  model.compile(optimizer='adam',\n",
        "                loss='binary_crossentropy',\n",
        "                metrics=['accuracy'])\n",
        "  return model\n",
        "  \n",
        "model = KerasClassifier(build_fn=createmodel, epochs=10, verbose=2)\n",
        "# define the grid search parameters\n",
        "neurons = [30,40,50]\n",
        "param_grid = dict(neurons=neurons)\n",
        "grid = GridSearchCV(estimator=model, param_grid=param_grid, n_jobs=-1, cv=3)\n",
        "grid_result = grid.fit(std_Xtrain1, y_train1)\n",
        "\n",
        "print(\"Best: %f using %s\" % (grid_result.best_score_, grid_result.best_params_))\n",
        "means = grid_result.cv_results_['mean_test_score']\n",
        "params = grid_result.cv_results_['params']\n",
        "\n",
        "for mean,param in zip(means,params):\n",
        "    print(\"%f with: %r\" % (mean, param))\n",
        "plt.figure()\n",
        "plt.plot(neurons,means)\n",
        "plt.xticks(neurons)\n",
        "plt.xlabel(\"No. of neurons\")\n",
        "plt.ylabel(\"Accuracy\")\n",
        "plt.title(\"No. of neruons in hidden layer2\")\n",
        "plt.show()"
      ],
      "execution_count": 0,
      "outputs": [
        {
          "output_type": "stream",
          "text": [
            "Epoch 1/10\n",
            " - 2s - loss: 0.3846 - acc: 0.8314\n",
            "Epoch 2/10\n",
            " - 1s - loss: 0.3566 - acc: 0.8449\n",
            "Epoch 3/10\n",
            " - 1s - loss: 0.3511 - acc: 0.8469\n",
            "Epoch 4/10\n",
            " - 1s - loss: 0.3458 - acc: 0.8475\n",
            "Epoch 5/10\n",
            " - 1s - loss: 0.3419 - acc: 0.8494\n",
            "Epoch 6/10\n",
            " - 1s - loss: 0.3385 - acc: 0.8541\n",
            "Epoch 7/10\n",
            " - 1s - loss: 0.3356 - acc: 0.8541\n",
            "Epoch 8/10\n",
            " - 1s - loss: 0.3314 - acc: 0.8546\n",
            "Epoch 9/10\n",
            " - 1s - loss: 0.3293 - acc: 0.8574\n",
            "Epoch 10/10\n",
            " - 1s - loss: 0.3259 - acc: 0.8600\n",
            "Best: 0.844929 using {'neurons': 50}\n",
            "0.842286 with: {'neurons': 30}\n",
            "0.839786 with: {'neurons': 40}\n",
            "0.844929 with: {'neurons': 50}\n"
          ],
          "name": "stdout"
        },
        {
          "output_type": "display_data",
          "data": {
            "image/png": "[encoded data removed]",
            "text/plain": [
              "<Figure size 432x288 with 1 Axes>"
            ]
          },
          "metadata": {
            "tags": []
          }
        }
      ]
    },
    {
      "cell_type": "code",
      "metadata": {
        "id": "dFycszffpeCc",
        "colab_type": "code",
        "outputId": "9ccc7eba-96f7-4a38-fa2e-f49aaa16ce16",
        "colab": {
          "base_uri": "https://localhost:8080/",
          "height": 295
        }
      },
      "source": [
        "def createmodel(neurons=10):\n",
        "  \n",
        "  model = Sequential()\n",
        "  model.add(Dense(70, input_dim=16, activation='relu'))\n",
        "  model.add(Dense(50, activation='relu'))\n",
        "  model.add(Dense(neurons, activation='relu'))\n",
        "  model.add(Dense(1, activation='sigmoid'))\n",
        "\n",
        "  model.compile(optimizer='adam',\n",
        "                loss='binary_crossentropy',\n",
        "                metrics=['accuracy'])\n",
        "  return model\n",
        "  \n",
        "model = KerasClassifier(build_fn=createmodel, epochs=10, verbose=2)\n",
        "# define the grid search parameters\n",
        "neurons = [10,20,30,40]\n",
        "param_grid = dict(neurons=neurons)\n",
        "grid = GridSearchCV(estimator=model, param_grid=param_grid, n_jobs=-1, cv=3)\n",
        "grid_result = grid.fit(std_Xtrain1, y_train1)\n",
        "\n",
        "print(\"Best: %f using %s\" % (grid_result.best_score_, grid_result.best_params_))\n",
        "means = grid_result.cv_results_['mean_test_score']\n",
        "params = grid_result.cv_results_['params']\n",
        "\n",
        "for mean,param in zip(means,params):\n",
        "    print(\"%f with: %r\" % (mean, param))\n",
        "plt.figure()\n",
        "plt.plot(neurons,means)\n",
        "plt.xticks(neurons)\n",
        "plt.xlabel(\"No. of neurons\")\n",
        "plt.ylabel(\"Accuracy\")\n",
        "plt.title(\"No. of neurons in hidden layer3\")\n",
        "plt.show()"
      ],
      "execution_count": 0,
      "outputs": [
        {
          "output_type": "display_data",
          "data": {
            "image/png": "[encoded data removed]",
            "text/plain": [
              "<Figure size 432x288 with 1 Axes>"
            ]
          },
          "metadata": {
            "tags": []
          }
        }
      ]
    },
    {
      "cell_type": "code",
      "metadata": {
        "id": "1gLMWXHesQmH",
        "colab_type": "code",
        "outputId": "80c52ef9-bc88-4553-8086-7af67a195d68",
        "colab": {
          "base_uri": "https://localhost:8080/",
          "height": 347
        }
      },
      "source": [
        "def createmodel(activation=\"relu\"):\n",
        "  \n",
        "  \n",
        "  model = Sequential()\n",
        "  model.add(Dense(70, input_dim=16, activation=activation))\n",
        "  model.add(Dense(50, activation=activation))\n",
        "  model.add(Dense(20, activation=activation))\n",
        "  model.add(Dense(1, activation='sigmoid'))\n",
        "\n",
        "  model.compile(optimizer='adam',\n",
        "                loss='binary_crossentropy',\n",
        "                metrics=['accuracy'])\n",
        "  return model\n",
        "\n",
        "model = KerasClassifier(build_fn=createmodel, epochs=10, verbose=2)\n",
        "# define the grid search parameters\n",
        "activation = ['relu', 'tanh', 'sigmoid']\n",
        "param_grid = dict(activation=activation)\n",
        "grid = GridSearchCV(estimator=model, param_grid=param_grid, n_jobs=-1, cv=3)\n",
        "grid_result = grid.fit(std_Xtrain1, y_train1)\n",
        "\n",
        "print(\"Best: %f using %s\" % (grid_result.best_score_, grid_result.best_params_))\n",
        "means = grid_result.cv_results_['mean_test_score']\n",
        "params = grid_result.cv_results_['params']\n",
        "\n",
        "for mean,param in zip(means,params):\n",
        "    print(\"%f with: %r\" % (mean, param))\n",
        "plt.figure()\n",
        "plt.bar(activation,means,width=0.5)\n",
        "plt.xlabel(\"Activation functions\")\n",
        "plt.show()"
      ],
      "execution_count": 0,
      "outputs": [
        {
          "output_type": "stream",
          "text": [
            "Best: 0.843071 using {'activation': 'tanh'}\n",
            "0.840571 with: {'activation': 'relu'}\n",
            "0.843071 with: {'activation': 'tanh'}\n",
            "0.842071 with: {'activation': 'sigmoid'}\n"
          ],
          "name": "stdout"
        },
        {
          "output_type": "display_data",
          "data": {
            "image/png": "[encoded data removed]",
            "text/plain": [
              "<Figure size 432x288 with 1 Axes>"
            ]
          },
          "metadata": {
            "tags": []
          }
        }
      ]
    },
    {
      "cell_type": "code",
      "metadata": {
        "id": "m7Ntk2HGvyLa",
        "colab_type": "code",
        "outputId": "05600d27-cff6-468c-dc4c-bb9e5fa3032d",
        "colab": {
          "base_uri": "https://localhost:8080/",
          "height": 102
        }
      },
      "source": [
        "def createmodel(activation=\"relu\"):\n",
        "  \n",
        "  \n",
        "  model = Sequential()\n",
        "  model.add(Dense(70, input_dim=16, activation=activation))\n",
        "  model.add(Dense(50, activation=activation))\n",
        "  model.add(Dense(20, activation=activation))\n",
        "  model.add(Dense(1, activation=activation))\n",
        "\n",
        "  model.compile(optimizer='adam',\n",
        "                loss='binary_crossentropy',\n",
        "                metrics=['accuracy'])\n",
        "  return model\n",
        "\n",
        "model = KerasClassifier(build_fn=createmodel, epochs=10, verbose=2)\n",
        "# define the grid search parameters\n",
        "activation = ['relu', 'tanh', 'sigmoid']\n",
        "param_grid = dict(activation=activation)\n",
        "grid = GridSearchCV(estimator=model, param_grid=param_grid, n_jobs=-1, cv=3)\n",
        "grid_result = grid.fit(std_Xtrain1, y_train1)\n",
        "\n",
        "print(\"Best: %f using %s\" % (grid_result.best_score_, grid_result.best_params_))\n",
        "means1 = grid_result.cv_results_['mean_test_score']\n",
        "params1 = grid_result.cv_results_['params']\n",
        "\n",
        "for mean,param in zip(means1,params1):\n",
        "    print(\"%f with: %r\" % (mean, param))\n",
        "    \n",
        "accuracies=[means[0],means[1],means1[0],means1[1],means1[2]]\n",
        "plt.figure()\n",
        "xaxis=[\"Relu+\\nsigmoid\",\"tanh+sigmoid\",\"Only Relu\",\"Only tanh\",\"Sigmoid\"]\n",
        "plt.bar(xaxis,accuracies,color=\"red\",width=0.5)\n",
        "plt.xlabel(\"Activation functions\")\n",
        "plt.ylabel(\"Accuracy Rate\")\n",
        "plt.title(\"Accuracies for various activation functions\",)\n",
        "plt.show()"
      ],
      "execution_count": 0,
      "outputs": [
        {
          "output_type": "execute_result",
          "data": {
            "text/plain": [
              "[0.8405714285799435,\n",
              " 0.8430714285799435,\n",
              " 0.8422857141920499,\n",
              " 0.7698571428784302,\n",
              " 0.8411428571343422]"
            ]
          },
          "metadata": {
            "tags": []
          },
          "execution_count": 52
        }
      ]
    },
    {
      "cell_type": "code",
      "metadata": {
        "id": "FRxnPEAKxH6x",
        "colab_type": "code",
        "outputId": "57806f38-3535-4a24-e7c5-71a52a67d6da",
        "colab": {
          "base_uri": "https://localhost:8080/",
          "height": 397
        }
      },
      "source": [
        "def createmodel(optimizer=\"adam\"):\n",
        "  \n",
        "  \n",
        "  model = Sequential()\n",
        "  model.add(Dense(70, input_dim=16, activation=\"tanh\"))\n",
        "  model.add(Dense(50, activation=\"tanh\"))\n",
        "  model.add(Dense(20, activation=\"tanh\"))\n",
        "  model.add(Dense(1, activation=\"sigmoid\"))\n",
        "\n",
        "  model.compile(optimizer=optimizer,\n",
        "                loss='binary_crossentropy',\n",
        "                metrics=['accuracy'])\n",
        "  return model\n",
        "\n",
        "model = KerasClassifier(build_fn=createmodel, epochs=10, verbose=2)\n",
        "# define the grid search parameters\n",
        "optimizer = ['SGD', 'RMSprop', 'Adagrad', 'Adadelta', 'Adam', 'Adamax']\n",
        "param_grid = dict(optimizer=optimizer)\n",
        "grid = GridSearchCV(estimator=model, param_grid=param_grid, n_jobs=-1, cv=3)\n",
        "grid_result = grid.fit(std_Xtrain1, y_train1)\n",
        "\n",
        "print(\"Best: %f using %s\" % (grid_result.best_score_, grid_result.best_params_))\n",
        "means1 = grid_result.cv_results_['mean_test_score']\n",
        "params1 = grid_result.cv_results_['params']\n",
        "for mean,param in zip(means1,params1):\n",
        "    print(\"%f with: %r\" % (mean, param))\n",
        "    \n",
        "plt.bar(optimizer,means1,color=\"green\",width=0.5)\n",
        "plt.xlabel(\"Optimizers\")\n",
        "plt.ylabel(\"Accuracy Rate\")\n",
        "plt.title(\"Accuracies for various optimizers\")\n",
        "plt.show()"
      ],
      "execution_count": 0,
      "outputs": [
        {
          "output_type": "stream",
          "text": [
            "0.842929 with: {'optimizer': 'SGD'}\n",
            "0.842000 with: {'optimizer': 'RMSprop'}\n",
            "0.844786 with: {'optimizer': 'Adagrad'}\n",
            "0.844571 with: {'optimizer': 'Adadelta'}\n",
            "0.839071 with: {'optimizer': 'Adam'}\n",
            "0.840714 with: {'optimizer': 'Adamax'}\n"
          ],
          "name": "stdout"
        },
        {
          "output_type": "display_data",
          "data": {
            "image/png": "[encoded data removed]",
            "text/plain": [
              "<Figure size 432x288 with 1 Axes>"
            ]
          },
          "metadata": {
            "tags": []
          }
        }
      ]
    },
    {
      "cell_type": "code",
      "metadata": {
        "id": "PYanvFudyrJP",
        "colab_type": "code",
        "outputId": "ddcff48e-cc6f-4a81-cc9b-33370a6d881a",
        "colab": {
          "base_uri": "https://localhost:8080/",
          "height": 961
        }
      },
      "source": [
        "from keras.layers import Dropout\n",
        "\n",
        "def createmodel(dropout_rate=0.0):\n",
        "  \n",
        "  \n",
        "  model = Sequential()\n",
        "  model.add(Dense(70, input_dim=16, activation=\"tanh\"))\n",
        "  model.add(Dense(50, activation=\"tanh\"))\n",
        "  model.add(Dense(20, activation=\"tanh\"))\n",
        "  model.add(Dropout(dropout_rate))\n",
        "\n",
        "  model.add(Dense(1, activation=\"sigmoid\"))\n",
        "\n",
        "  model.compile(optimizer=\"Adagrad\",\n",
        "                loss='binary_crossentropy',\n",
        "                metrics=['accuracy'])\n",
        "  return model\n",
        "\n",
        "model = KerasClassifier(build_fn=createmodel, epochs=10, verbose=2)\n",
        "# define the grid search parameters\n",
        "dropout_rate = [0.0, 0.1, 0.2, 0.3, 0.4, 0.5, 0.6, 0.7, 0.8, 0.9]\n",
        "param_grid = dict(dropout_rate=dropout_rate)\n",
        "grid = GridSearchCV(estimator=model, param_grid=param_grid, n_jobs=-1, cv=3)\n",
        "grid_result = grid.fit(std_Xtrain1, y_train1)\n",
        "\n",
        "print(\"Best: %f using %s\" % (grid_result.best_score_, grid_result.best_params_))\n",
        "means1 = grid_result.cv_results_['mean_test_score']\n",
        "params1 = grid_result.cv_results_['params']\n",
        "for mean,param in zip(means1,params1):\n",
        "    print(\"%f with: %r\" % (mean, param))\n",
        "    \n",
        "plt.figure()\n",
        "plt.bar(dropout_rate,means1,color=\"red\",width=0.05)\n",
        "plt.xticks(dropout_rate)\n",
        "plt.xlabel(\"Dropout Rate\")\n",
        "plt.ylabel(\"Accuracy Rate\")\n",
        "plt.title(\"Accuracies for various Dropout rates\")\n",
        "plt.show()"
      ],
      "execution_count": 0,
      "outputs": [
        {
          "output_type": "stream",
          "text": [
            "/usr/local/lib/python3.6/dist-packages/joblib/externals/loky/process_executor.py:706: UserWarning: A worker stopped while some jobs were given to the executor. This can be caused by a too short worker timeout or by a memory leak.\n",
            "  \"timeout or by a memory leak.\", UserWarning\n"
          ],
          "name": "stderr"
        },
        {
          "output_type": "stream",
          "text": [
            "WARNING:tensorflow:From /usr/local/lib/python3.6/dist-packages/keras/backend/tensorflow_backend.py:148: The name tf.placeholder_with_default is deprecated. Please use tf.compat.v1.placeholder_with_default instead.\n",
            "\n",
            "WARNING:tensorflow:From /usr/local/lib/python3.6/dist-packages/keras/backend/tensorflow_backend.py:3733: calling dropout (from tensorflow.python.ops.nn_ops) with keep_prob is deprecated and will be removed in a future version.\n",
            "Instructions for updating:\n",
            "Please use `rate` instead of `keep_prob`. Rate should be set to `rate = 1 - keep_prob`.\n",
            "Epoch 1/10\n",
            " - 2s - loss: 0.3821 - acc: 0.8324\n",
            "Epoch 2/10\n",
            " - 1s - loss: 0.3681 - acc: 0.8430\n",
            "Epoch 3/10\n",
            " - 1s - loss: 0.3635 - acc: 0.8408\n",
            "Epoch 4/10\n",
            " - 1s - loss: 0.3629 - acc: 0.8434\n",
            "Epoch 5/10\n",
            " - 1s - loss: 0.3612 - acc: 0.8420\n",
            "Epoch 6/10\n",
            " - 1s - loss: 0.3596 - acc: 0.8447\n",
            "Epoch 7/10\n",
            " - 1s - loss: 0.3603 - acc: 0.8439\n",
            "Epoch 8/10\n",
            " - 1s - loss: 0.3591 - acc: 0.8438\n",
            "Epoch 9/10\n",
            " - 1s - loss: 0.3577 - acc: 0.8450\n",
            "Epoch 10/10\n",
            " - 1s - loss: 0.3580 - acc: 0.8441\n",
            "Best: 0.845714 using {'dropout_rate': 0.3}\n",
            "0.842714 with: {'dropout_rate': 0.0}\n",
            "0.844571 with: {'dropout_rate': 0.1}\n",
            "0.842857 with: {'dropout_rate': 0.2}\n",
            "0.845714 with: {'dropout_rate': 0.3}\n",
            "0.844357 with: {'dropout_rate': 0.4}\n",
            "0.843214 with: {'dropout_rate': 0.5}\n",
            "0.844929 with: {'dropout_rate': 0.6}\n",
            "0.843500 with: {'dropout_rate': 0.7}\n",
            "0.843571 with: {'dropout_rate': 0.8}\n",
            "0.843071 with: {'dropout_rate': 0.9}\n"
          ],
          "name": "stdout"
        },
        {
          "output_type": "display_data",
          "data": {
            "image/png": "[encoded data removed]",
            "text/plain": [
              "<Figure size 432x288 with 1 Axes>"
            ]
          },
          "metadata": {
            "tags": []
          }
        }
      ]
    },
    {
      "cell_type": "code",
      "metadata": {
        "id": "4NzDjyTp0X30",
        "colab_type": "code",
        "outputId": "b103e377-e30e-4c5b-b74f-01dd916fe072",
        "colab": {
          "base_uri": "https://localhost:8080/",
          "height": 425
        }
      },
      "source": [
        "model = Sequential()\n",
        "model.add(Dense(70, input_dim=16, activation=\"tanh\"))\n",
        "model.add(Dense(50, activation=\"tanh\"))\n",
        "model.add(Dense(20, activation=\"tanh\"))\n",
        "model.add(Dropout(0.1))\n",
        "model.add(Dense(1, activation=\"sigmoid\"))\n",
        "\n",
        "model.compile(optimizer=\"Adagrad\",\n",
        "              loss='binary_crossentropy',\n",
        "              metrics=['accuracy'])\n",
        "model.fit(std_Xtrain1, y_train1, epochs=10)\n",
        "test_loss3, test_acc3 = model.evaluate(std_Xtest1,  y_test1, verbose=2)\n",
        "train_loss3,train_acc3 = model.evaluate(std_Xtrain1,  y_train1, verbose=2)\n",
        "print('\\nTest accuracy:', test_acc3)\n",
        "print('\\nTrain accuracy:', train_acc3)"
      ],
      "execution_count": 0,
      "outputs": [
        {
          "output_type": "stream",
          "text": [
            "Epoch 1/10\n",
            "14000/14000 [==============================] - 2s 169us/step - loss: 0.3752 - acc: 0.8353\n",
            "Epoch 2/10\n",
            "14000/14000 [==============================] - 1s 53us/step - loss: 0.3623 - acc: 0.8421\n",
            "Epoch 3/10\n",
            "14000/14000 [==============================] - 1s 52us/step - loss: 0.3587 - acc: 0.8439\n",
            "Epoch 4/10\n",
            "14000/14000 [==============================] - 1s 51us/step - loss: 0.3581 - acc: 0.8426\n",
            "Epoch 5/10\n",
            "14000/14000 [==============================] - 1s 53us/step - loss: 0.3566 - acc: 0.8434\n",
            "Epoch 6/10\n",
            "14000/14000 [==============================] - 1s 52us/step - loss: 0.3547 - acc: 0.8452\n",
            "Epoch 7/10\n",
            "14000/14000 [==============================] - 1s 52us/step - loss: 0.3545 - acc: 0.8451\n",
            "Epoch 8/10\n",
            "14000/14000 [==============================] - 1s 52us/step - loss: 0.3530 - acc: 0.8469\n",
            "Epoch 9/10\n",
            "14000/14000 [==============================] - 1s 55us/step - loss: 0.3524 - acc: 0.8453\n",
            "Epoch 10/10\n",
            "14000/14000 [==============================] - 1s 53us/step - loss: 0.3530 - acc: 0.8466\n",
            "\n",
            "Test accuracy: 0.8495\n",
            "\n",
            "Train accuracy: 0.8499285714285715\n"
          ],
          "name": "stdout"
        }
      ]
    },
    {
      "cell_type": "markdown",
      "metadata": {
        "id": "S-IFuGhbSN4Q",
        "colab_type": "text"
      },
      "source": [
        "**KNN**"
      ]
    },
    {
      "cell_type": "code",
      "metadata": {
        "id": "5loy21v-rlJw",
        "colab_type": "code",
        "colab": {}
      },
      "source": [
        "from sklearn.preprocessing import StandardScaler\n",
        "from sklearn.neighbors import KNeighborsClassifier\n",
        "df1= pd.read_csv(\"weatherAUS.csv\")\n",
        "\n",
        "df1['MinTemp'] = df1['MinTemp'].fillna((df1['MinTemp'].mean()))\n",
        "df1['MaxTemp'] = df1['MaxTemp'].fillna((df1['MaxTemp'].mean()))\n",
        "df1['Rainfall'] = df1['Rainfall'].fillna((df1['Rainfall'].mean()))\n",
        "df1['Evaporation'] = df1['Evaporation'].fillna((df1['Evaporation'].mean()))\n",
        "df1['Sunshine'] = df1['Sunshine'].fillna((df1['Sunshine'].mean()))\n",
        "df1['WindGustSpeed'] = df1['WindGustSpeed'].fillna((df1['WindGustSpeed'].mean()))\n",
        "df1['WindSpeed9am'] = df1['WindSpeed9am'].fillna((df1['WindSpeed9am'].mean()))\n",
        "df1['WindSpeed3pm'] = df1['WindSpeed3pm'].fillna((df1['WindSpeed3pm'].mean()))\n",
        "df1['Humidity9am'] = df1['Humidity9am'].fillna((df1['Humidity9am'].mean()))\n",
        "df1['Humidity3pm'] = df1['Humidity3pm'].fillna((df1['Humidity3pm'].mean()))\n",
        "df1['Pressure9am'] = df1['Pressure9am'].fillna((df1['Pressure9am'].mean()))\n",
        "df1['Pressure3pm'] = df1['Pressure3pm'].fillna((df1['Pressure3pm'].mean()))\n",
        "df1['Cloud9am'] = df1['Cloud9am'].fillna((df1['Cloud9am'].mean()))\n",
        "df1['Cloud3pm'] = df1['Cloud3pm'].fillna((df1['Cloud3pm'].mean()))\n",
        "df1['Temp3pm'] = df1['Temp3pm'].fillna((df1['Temp3pm'].mean()))\n",
        "df1['Temp9am'] = df1['Temp9am'].fillna((df1['Temp9am'].mean()))\n",
        "df1['RISK_MM'] = df1['RISK_MM'].fillna((df1['RISK_MM'].mean()))\n",
        "df1['WindGustDir'] = df1['WindGustDir'].fillna(\"W\")\n",
        "df1['WindDir9am'] = df1['WindDir9am'].fillna(\"N\")\n",
        "df1['WindDir3pm'] = df1['WindDir3pm'].fillna(\"SE\")\n",
        "df1['RainToday'] = df1['RainToday'].fillna(\"No\")\n",
        "df1 = df1.drop([\"Date\", \"Location\", \"RISK_MM\"], axis=1)\n",
        "df1 = df1.drop('WindGustDir', axis=1)\n",
        "df1 = df1.drop('WindDir3pm', axis=1)\n",
        "df1 = df1.drop('WindDir9am', axis=1)\n",
        "df1 = df1.drop('RainToday', axis=1)\n",
        "df1['RainTomorrow'].replace({'No': 0, 'Yes': 1}, inplace=True)\n",
        "\n",
        "num_cols = df1.columns[df1.dtypes.apply(lambda c: np.issubdtype(c, np.number))]\n",
        "\n",
        "z = np.abs(stats.zscore(df1[num_cols]))\n",
        "print(z)\n",
        "df1 = df1[(z < 3).all(axis=1)]\n",
        "print(df1.shape)\n",
        "\n",
        "df2 = df1.sample(n=20000, random_state=1)\n",
        "x = df2.drop(['RainTomorrow'], axis=1)\n",
        "y = df2['RainTomorrow']\n",
        "x_train1, x_test1, y_train1, y_test1 = train_test_split(x, y, train_size=0.7, random_state=1, shuffle=True)\n",
        "scaler = StandardScaler()\n",
        "\n",
        "scaler.fit(x_train1)\n",
        "\n",
        "std_Xtrain1 = scaler.transform(x_train1)\n",
        "std_Xtest1 = scaler.transform(x_test1)\n",
        "\n",
        "std_Xtrain1.shape\n",
        "std_Xtest1.shape\n"
      ],
      "execution_count": 0,
      "outputs": []
    },
    {
      "cell_type": "code",
      "metadata": {
        "id": "GCq-Zp7itevI",
        "colab_type": "code",
        "outputId": "3dfcada8-44f7-4e7c-8330-69ec2c2da792",
        "colab": {
          "base_uri": "https://localhost:8080/",
          "height": 254
        }
      },
      "source": [
        "train_error = []\n",
        "test_error=[]\n",
        "train_accuracies=[]\n",
        "test_accuracies=[]\n",
        "\n",
        "# Calculating error for K values between 1 and 40\n",
        "for i in range(2, 15):\n",
        "    knn = KNeighborsClassifier(n_neighbors=i,metric=\"euclidean\")\n",
        "    knn.fit(std_Xtrain1, y_train1)\n",
        "    train_pred=knn.predict(std_Xtrain1)\n",
        "\n",
        "    test_pred = knn.predict(std_Xtest1)\n",
        "    \n",
        "    train_accuracies.append(accuracy_score(y_train1,train_pred))\n",
        "    test_accuracies.append(accuracy_score(y_test1,test_pred))\n",
        "    train_error.append(np.mean(y_train1!=train_pred))\n",
        "    test_error.append(np.mean(y_test1!=test_pred))"
      ],
      "execution_count": 0,
      "outputs": [
        {
          "output_type": "execute_result",
          "data": {
            "text/plain": [
              "[0.8141666666666667,\n",
              " 0.8166666666666667,\n",
              " 0.8241666666666667,\n",
              " 0.8283333333333334,\n",
              " 0.8285,\n",
              " 0.8293333333333334,\n",
              " 0.8303333333333334,\n",
              " 0.833,\n",
              " 0.8326666666666667,\n",
              " 0.8353333333333334,\n",
              " 0.8345,\n",
              " 0.8356666666666667,\n",
              " 0.835]"
            ]
          },
          "metadata": {
            "tags": []
          },
          "execution_count": 18
        }
      ]
    },
    {
      "cell_type": "code",
      "metadata": {
        "id": "0ZzQ2vnqth6_",
        "colab_type": "code",
        "outputId": "cec4922d-aff0-4928-ecf9-bf744c726a71",
        "colab": {
          "base_uri": "https://localhost:8080/",
          "height": 422
        }
      },
      "source": [
        "plt.figure(figsize=(12, 6))\n",
        "plt.plot(range(2, 15),train_error, marker='o' ,color='red' )\n",
        "plt.plot(range(2, 15),test_error, marker='o' ,color='blue' )\n",
        "\n",
        "plt.title('KNN - Euclidean')\n",
        "plt.xlabel('K Value')\n",
        "plt.ylabel('Mean Error')"
      ],
      "execution_count": 0,
      "outputs": [
        {
          "output_type": "execute_result",
          "data": {
            "text/plain": [
              "Text(0, 0.5, 'Mean Error')"
            ]
          },
          "metadata": {
            "tags": []
          },
          "execution_count": 19
        },
        {
          "output_type": "display_data",
          "data": {
            "image/png": "[encoded data removed]",
            "text/plain": [
              "<Figure size 864x432 with 1 Axes>"
            ]
          },
          "metadata": {
            "tags": []
          }
        }
      ]
    },
    {
      "cell_type": "code",
      "metadata": {
        "id": "E3NxILhZu_mY",
        "colab_type": "code",
        "outputId": "980dcb5e-d575-4c1e-af9b-52bb454d93d5",
        "colab": {
          "base_uri": "https://localhost:8080/",
          "height": 254
        }
      },
      "source": [
        "train_error = []\n",
        "test_error=[]\n",
        "train_accuracies=[]\n",
        "test_accuracies=[]\n",
        "# Calculating error for K values between 1 and 40\n",
        "for i in range(2, 15):\n",
        "    knn = KNeighborsClassifier(n_neighbors=i,metric=\"manhattan\")\n",
        "    knn.fit(std_Xtrain1, y_train1)\n",
        "    train_pred=knn.predict(std_Xtrain1)\n",
        "\n",
        "    test_pred = knn.predict(std_Xtest1)\n",
        "    \n",
        "    train_accuracies.append(accuracy_score(y_train1,train_pred))\n",
        "    test_accuracies.append(accuracy_score(y_test1,test_pred))\n",
        "    train_error.append(np.mean(y_train1!=train_pred))\n",
        "    test_error.append(np.mean(y_test1!=test_pred))"
      ],
      "execution_count": 0,
      "outputs": [
        {
          "output_type": "execute_result",
          "data": {
            "text/plain": [
              "[0.8153333333333334,\n",
              " 0.8198333333333333,\n",
              " 0.8251666666666667,\n",
              " 0.8288333333333333,\n",
              " 0.8293333333333334,\n",
              " 0.8343333333333334,\n",
              " 0.8338333333333333,\n",
              " 0.8353333333333334,\n",
              " 0.8313333333333334,\n",
              " 0.837,\n",
              " 0.8335,\n",
              " 0.8375,\n",
              " 0.833]"
            ]
          },
          "metadata": {
            "tags": []
          },
          "execution_count": 23
        }
      ]
    },
    {
      "cell_type": "code",
      "metadata": {
        "id": "imw7No_IwBz0",
        "colab_type": "code",
        "outputId": "3d6e10fe-92ec-4071-b18e-99cbecbb3f0a",
        "colab": {
          "base_uri": "https://localhost:8080/",
          "height": 422
        }
      },
      "source": [
        "plt.figure(figsize=(12, 6))\n",
        "plt.plot(range(2, 15),train_error, marker='o' ,color='red' )\n",
        "plt.plot(range(2, 15),test_error, marker='o' ,color='blue' )\n",
        "\n",
        "plt.title('KNN - Manhattan')\n",
        "plt.xlabel('K Value')\n",
        "plt.ylabel('Mean Error')"
      ],
      "execution_count": 0,
      "outputs": [
        {
          "output_type": "execute_result",
          "data": {
            "text/plain": [
              "Text(0, 0.5, 'Mean Error')"
            ]
          },
          "metadata": {
            "tags": []
          },
          "execution_count": 24
        },
        {
          "output_type": "display_data",
          "data": {
            "image/png": "[encoded data removed]",
            "text/plain": [
              "<Figure size 864x432 with 1 Axes>"
            ]
          },
          "metadata": {
            "tags": []
          }
        }
      ]
    },
    {
      "cell_type": "code",
      "metadata": {
        "id": "ahbrquR6yGtA",
        "colab_type": "code",
        "outputId": "531fbd8d-0cc5-4997-fa07-ac632edc4bb9",
        "colab": {
          "base_uri": "https://localhost:8080/",
          "height": 235
        }
      },
      "source": [
        "knn = KNeighborsClassifier(n_neighbors=8,metric=\"manhattan\")\n",
        "knn.fit(std_Xtrain1, y_train1)\n",
        "train_pred=knn.predict(std_Xtrain1)\n",
        "\n",
        "test_pred = knn.predict(std_Xtest1)\n",
        "print(classification_report(y_test1,test_pred))\n",
        "print(confusion_matrix(y_test1,test_pred))\n",
        "print(accuracy_score(y_test1,test_pred))"
      ],
      "execution_count": 0,
      "outputs": [
        {
          "output_type": "stream",
          "text": [
            "              precision    recall  f1-score   support\n",
            "\n",
            "           0       0.84      0.97      0.90      4713\n",
            "           1       0.74      0.34      0.47      1287\n",
            "\n",
            "    accuracy                           0.83      6000\n",
            "   macro avg       0.79      0.66      0.69      6000\n",
            "weighted avg       0.82      0.83      0.81      6000\n",
            "\n",
            "[[4560  153]\n",
            " [ 844  443]]\n",
            "0.8338333333333333\n"
          ],
          "name": "stdout"
        }
      ]
    }
  ]
}